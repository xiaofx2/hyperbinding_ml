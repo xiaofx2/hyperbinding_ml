{
 "cells": [
  {
   "cell_type": "markdown",
   "metadata": {},
   "source": [
    "### Fitting a function with hyperbinding\n",
    "\n",
    "Hyperbinding contains a number of tools to label, convert and training sequence based data<br> \n",
    "This example shows us how to load hyperbinding, load csv data into python, training our model with hyberbinding, and then plot the result<br>\n",
    "This example is used to demonstrate the functionality of hyperbinding example, which generates a trained model with binary output<br>"
   ]
  },
  {
   "cell_type": "code",
   "execution_count": 1,
   "metadata": {},
   "outputs": [],
   "source": [
    "import pandas as pd\n",
    "import numpy as np\n",
    "import matplotlib.pyplot as plt"
   ]
  },
  {
   "cell_type": "code",
   "execution_count": 2,
   "metadata": {},
   "outputs": [
    {
     "name": "stderr",
     "output_type": "stream",
     "text": [
      "Using TensorFlow backend.\n"
     ]
    }
   ],
   "source": [
    "import keras\n",
    "from keras.utils import to_categorical"
   ]
  },
  {
   "cell_type": "markdown",
   "metadata": {},
   "source": [
    "Using sys.path.append to approach upper top pathway<br>\n",
    "Import **multiple_channel_matrix_generator** from hyperbinding package"
   ]
  },
  {
   "cell_type": "code",
   "execution_count": 3,
   "metadata": {},
   "outputs": [],
   "source": [
    "import sys\n",
    "sys.path.append(\"../..\")\n",
    "from hyperbinding import multiple_channel_matrix_generator"
   ]
  },
  {
   "cell_type": "markdown",
   "metadata": {},
   "source": [
    "Load data from dataset using pandas "
   ]
  },
  {
   "cell_type": "code",
   "execution_count": 4,
   "metadata": {},
   "outputs": [],
   "source": [
    "df = pd.read_csv('../../hyperbinding/data/Labeled-HLA-A-0201.csv')"
   ]
  },
  {
   "cell_type": "code",
   "execution_count": 5,
   "metadata": {},
   "outputs": [],
   "source": [
    "df_dataset = df[['sequence','label']]"
   ]
  },
  {
   "cell_type": "code",
   "execution_count": 6,
   "metadata": {},
   "outputs": [
    {
     "data": {
      "text/plain": [
       "(8950, 2)"
      ]
     },
     "execution_count": 6,
     "metadata": {},
     "output_type": "execute_result"
    }
   ],
   "source": [
    "df_dataset.shape"
   ]
  },
  {
   "cell_type": "code",
   "execution_count": 7,
   "metadata": {},
   "outputs": [
    {
     "data": {
      "text/html": [
       "<div>\n",
       "<style scoped>\n",
       "    .dataframe tbody tr th:only-of-type {\n",
       "        vertical-align: middle;\n",
       "    }\n",
       "\n",
       "    .dataframe tbody tr th {\n",
       "        vertical-align: top;\n",
       "    }\n",
       "\n",
       "    .dataframe thead th {\n",
       "        text-align: right;\n",
       "    }\n",
       "</style>\n",
       "<table border=\"1\" class=\"dataframe\">\n",
       "  <thead>\n",
       "    <tr style=\"text-align: right;\">\n",
       "      <th></th>\n",
       "      <th>sequence</th>\n",
       "      <th>label</th>\n",
       "    </tr>\n",
       "  </thead>\n",
       "  <tbody>\n",
       "    <tr>\n",
       "      <th>0</th>\n",
       "      <td>ILGFXXXXVFTL</td>\n",
       "      <td>P</td>\n",
       "    </tr>\n",
       "    <tr>\n",
       "      <th>1</th>\n",
       "      <td>FLGRXXXXIWPS</td>\n",
       "      <td>P</td>\n",
       "    </tr>\n",
       "    <tr>\n",
       "      <th>2</th>\n",
       "      <td>FLGKXXXXIWPS</td>\n",
       "      <td>P</td>\n",
       "    </tr>\n",
       "    <tr>\n",
       "      <th>3</th>\n",
       "      <td>FLGKXXXXIWSS</td>\n",
       "      <td>P</td>\n",
       "    </tr>\n",
       "    <tr>\n",
       "      <th>4</th>\n",
       "      <td>GLAVXXXXAMEV</td>\n",
       "      <td>P</td>\n",
       "    </tr>\n",
       "  </tbody>\n",
       "</table>\n",
       "</div>"
      ],
      "text/plain": [
       "       sequence label\n",
       "0  ILGFXXXXVFTL     P\n",
       "1  FLGRXXXXIWPS     P\n",
       "2  FLGKXXXXIWPS     P\n",
       "3  FLGKXXXXIWSS     P\n",
       "4  GLAVXXXXAMEV     P"
      ]
     },
     "execution_count": 7,
     "metadata": {},
     "output_type": "execute_result"
    }
   ],
   "source": [
    "df_dataset.head()"
   ]
  },
  {
   "cell_type": "code",
   "execution_count": 8,
   "metadata": {},
   "outputs": [],
   "source": [
    "y_data = []\n",
    "for label in df_dataset['label']:\n",
    "    if label == 'P':\n",
    "        y_data.append([0])\n",
    "    elif label == 'N':\n",
    "        y_data.append([1])\n",
    "    else:\n",
    "        continue\n",
    "y_data = np.array(y_data)"
   ]
  },
  {
   "cell_type": "code",
   "execution_count": 9,
   "metadata": {},
   "outputs": [],
   "source": [
    "y_data = to_categorical(y_data)"
   ]
  },
  {
   "cell_type": "markdown",
   "metadata": {},
   "source": [
    "Use **multiple_channel_matrix_generator** to generate multiple channels matrix input<br>\n",
    "Input matrix shape: 12x21x3<br>\n",
    "For details in converting sequence to input matrix, please refer to multiple_channel_matrix_generator.py<br>\n",
    "x_data are input matrix<br>\n",
    "y_data are labels"
   ]
  },
  {
   "cell_type": "code",
   "execution_count": 10,
   "metadata": {},
   "outputs": [],
   "source": [
    "x_data = []\n",
    "for sequence in df_dataset['sequence']:\n",
    "    x_data.append(multiple_channel_matrix_generator.multiple_channel_generator(sequence))\n",
    "x_data = np.array(x_data, dtype = 'float32')"
   ]
  },
  {
   "cell_type": "code",
   "execution_count": 11,
   "metadata": {},
   "outputs": [
    {
     "data": {
      "text/plain": [
       "(8950, 3, 12, 21)"
      ]
     },
     "execution_count": 11,
     "metadata": {},
     "output_type": "execute_result"
    }
   ],
   "source": [
    "x_data.shape"
   ]
  },
  {
   "cell_type": "code",
   "execution_count": 12,
   "metadata": {},
   "outputs": [],
   "source": [
    "x_data = x_data.reshape((x_data.shape[0],12,21,3))"
   ]
  },
  {
   "cell_type": "code",
   "execution_count": 13,
   "metadata": {},
   "outputs": [
    {
     "data": {
      "text/plain": [
       "(8950, 12, 21, 3)"
      ]
     },
     "execution_count": 13,
     "metadata": {},
     "output_type": "execute_result"
    }
   ],
   "source": [
    "x_data.shape"
   ]
  },
  {
   "cell_type": "markdown",
   "metadata": {},
   "source": [
    "we split dataset into 80% training and 20% validating"
   ]
  },
  {
   "cell_type": "code",
   "execution_count": 14,
   "metadata": {},
   "outputs": [],
   "source": [
    "from sklearn.model_selection import train_test_split\n",
    "x_train,x_validate,y_train,y_validate = train_test_split(x_data,y_data,test_size = 0.2) "
   ]
  },
  {
   "cell_type": "code",
   "execution_count": 15,
   "metadata": {},
   "outputs": [],
   "source": [
    "from keras import layers\n",
    "from keras import models"
   ]
  },
  {
   "cell_type": "markdown",
   "metadata": {},
   "source": [
    "Architecture of convolutional nerual network(CNN):<br>\n",
    "Input shape is: 12x21x3<br>\n",
    "Output: binary classes<br>\n",
    "2 classes:<br>\n",
    "class 1: Binder (kd>=500nM)<br>\n",
    "class 2: Non-Binder (kd<500nM)<br>"
   ]
  },
  {
   "cell_type": "code",
   "execution_count": 16,
   "metadata": {},
   "outputs": [],
   "source": [
    "model=models.Sequential()\n",
    "model.add(layers.Conv2D(32, (2, 2), activation='relu', input_shape=(12,21,3))) ##tunabel \n",
    "model.add(layers.MaxPooling2D((2, 2))) ##tunabel \n",
    "model.add(layers.Dropout(0.2))\n",
    "\n",
    "model.add(layers.Conv2D(64, (2, 2), activation='relu')) \n",
    "model.add(layers.MaxPooling2D((2, 2))) \n",
    "model.add(layers.Dropout(0.2))\n",
    "\n",
    "model.add(layers.Flatten())\n",
    "\n",
    "model.add(layers.Dense(256, activation='relu'))\n",
    "model.add(layers.Dense(128, activation='relu'))  \n",
    "model.add(layers.Dropout(0.2))\n",
    "model.add(layers.Dense(2, activation='softmax'))\n",
    "sgd = keras.optimizers.SGD(lr=0.00001, decay=1e-6, momentum=0.5, nesterov=True) "
   ]
  },
  {
   "cell_type": "code",
   "execution_count": 17,
   "metadata": {},
   "outputs": [
    {
     "name": "stdout",
     "output_type": "stream",
     "text": [
      "Train on 7160 samples, validate on 1790 samples\n",
      "Epoch 1/50\n",
      "7160/7160 [==============================] - 1s 174us/step - loss: 1.0264 - accuracy: 0.6401 - val_loss: 0.5829 - val_accuracy: 0.6911\n",
      "Epoch 2/50\n",
      "7160/7160 [==============================] - 1s 143us/step - loss: 0.5899 - accuracy: 0.6821 - val_loss: 0.5319 - val_accuracy: 0.7151\n",
      "Epoch 3/50\n",
      "7160/7160 [==============================] - 1s 139us/step - loss: 0.5657 - accuracy: 0.7014 - val_loss: 0.5306 - val_accuracy: 0.7363\n",
      "Epoch 4/50\n",
      "7160/7160 [==============================] - 1s 138us/step - loss: 0.5416 - accuracy: 0.7218 - val_loss: 0.4895 - val_accuracy: 0.7642\n",
      "Epoch 5/50\n",
      "7160/7160 [==============================] - 1s 135us/step - loss: 0.5262 - accuracy: 0.7317 - val_loss: 0.4782 - val_accuracy: 0.7765\n",
      "Epoch 6/50\n",
      "7160/7160 [==============================] - 1s 139us/step - loss: 0.5068 - accuracy: 0.7536 - val_loss: 0.4558 - val_accuracy: 0.7827\n",
      "Epoch 7/50\n",
      "7160/7160 [==============================] - 1s 141us/step - loss: 0.4914 - accuracy: 0.7582 - val_loss: 0.4509 - val_accuracy: 0.7838\n",
      "Epoch 8/50\n",
      "7160/7160 [==============================] - 1s 189us/step - loss: 0.4903 - accuracy: 0.7613 - val_loss: 0.4504 - val_accuracy: 0.8017\n",
      "Epoch 9/50\n",
      "7160/7160 [==============================] - 1s 178us/step - loss: 0.4827 - accuracy: 0.7673 - val_loss: 0.4368 - val_accuracy: 0.8050\n",
      "Epoch 10/50\n",
      "7160/7160 [==============================] - 1s 156us/step - loss: 0.4769 - accuracy: 0.7726 - val_loss: 0.4286 - val_accuracy: 0.8201\n",
      "Epoch 11/50\n",
      "7160/7160 [==============================] - 1s 144us/step - loss: 0.4640 - accuracy: 0.7816 - val_loss: 0.4286 - val_accuracy: 0.8151\n",
      "Epoch 12/50\n",
      "7160/7160 [==============================] - 1s 142us/step - loss: 0.4623 - accuracy: 0.7729 - val_loss: 0.4569 - val_accuracy: 0.7816\n",
      "Epoch 13/50\n",
      "7160/7160 [==============================] - 1s 144us/step - loss: 0.4517 - accuracy: 0.7853 - val_loss: 0.4092 - val_accuracy: 0.8201\n",
      "Epoch 14/50\n",
      "7160/7160 [==============================] - 1s 155us/step - loss: 0.4448 - accuracy: 0.7905 - val_loss: 0.4064 - val_accuracy: 0.8201\n",
      "Epoch 15/50\n",
      "7160/7160 [==============================] - 1s 161us/step - loss: 0.4402 - accuracy: 0.7908 - val_loss: 0.4256 - val_accuracy: 0.8017\n",
      "Epoch 16/50\n",
      "7160/7160 [==============================] - 1s 147us/step - loss: 0.4339 - accuracy: 0.7920 - val_loss: 0.4150 - val_accuracy: 0.8117\n",
      "Epoch 17/50\n",
      "7160/7160 [==============================] - 1s 139us/step - loss: 0.4293 - accuracy: 0.8038 - val_loss: 0.3942 - val_accuracy: 0.8246\n",
      "Epoch 18/50\n",
      "7160/7160 [==============================] - 1s 142us/step - loss: 0.4262 - accuracy: 0.8010 - val_loss: 0.3985 - val_accuracy: 0.8240\n",
      "Epoch 19/50\n",
      "7160/7160 [==============================] - 1s 140us/step - loss: 0.4258 - accuracy: 0.8057 - val_loss: 0.3973 - val_accuracy: 0.8274\n",
      "Epoch 20/50\n",
      "7160/7160 [==============================] - 1s 141us/step - loss: 0.4206 - accuracy: 0.7983 - val_loss: 0.3911 - val_accuracy: 0.8313\n",
      "Epoch 21/50\n",
      "7160/7160 [==============================] - 1s 143us/step - loss: 0.4106 - accuracy: 0.8138 - val_loss: 0.3963 - val_accuracy: 0.8330\n",
      "Epoch 22/50\n",
      "7160/7160 [==============================] - 1s 139us/step - loss: 0.4091 - accuracy: 0.8099 - val_loss: 0.3906 - val_accuracy: 0.8324\n",
      "Epoch 23/50\n",
      "7160/7160 [==============================] - 1s 143us/step - loss: 0.4072 - accuracy: 0.8130 - val_loss: 0.3815 - val_accuracy: 0.8391\n",
      "Epoch 24/50\n",
      "7160/7160 [==============================] - 1s 145us/step - loss: 0.4046 - accuracy: 0.8180 - val_loss: 0.3901 - val_accuracy: 0.8391\n",
      "Epoch 25/50\n",
      "7160/7160 [==============================] - 1s 147us/step - loss: 0.3931 - accuracy: 0.8226 - val_loss: 0.3749 - val_accuracy: 0.8380\n",
      "Epoch 26/50\n",
      "7160/7160 [==============================] - 1s 141us/step - loss: 0.3951 - accuracy: 0.8200 - val_loss: 0.3720 - val_accuracy: 0.8391\n",
      "Epoch 27/50\n",
      "7160/7160 [==============================] - 1s 158us/step - loss: 0.3969 - accuracy: 0.8159 - val_loss: 0.3738 - val_accuracy: 0.8458\n",
      "Epoch 28/50\n",
      "7160/7160 [==============================] - 1s 174us/step - loss: 0.3905 - accuracy: 0.8232 - val_loss: 0.3937 - val_accuracy: 0.8313\n",
      "Epoch 29/50\n",
      "7160/7160 [==============================] - 1s 171us/step - loss: 0.4013 - accuracy: 0.8133 - val_loss: 0.3855 - val_accuracy: 0.8313\n",
      "Epoch 30/50\n",
      "7160/7160 [==============================] - 1s 184us/step - loss: 0.3866 - accuracy: 0.8230 - val_loss: 0.3872 - val_accuracy: 0.8341\n",
      "Epoch 31/50\n",
      "7160/7160 [==============================] - 1s 161us/step - loss: 0.3832 - accuracy: 0.8264 - val_loss: 0.3759 - val_accuracy: 0.8341\n",
      "Epoch 32/50\n",
      "7160/7160 [==============================] - 1s 162us/step - loss: 0.3805 - accuracy: 0.8285 - val_loss: 0.3749 - val_accuracy: 0.8380\n",
      "Epoch 33/50\n",
      "7160/7160 [==============================] - 1s 152us/step - loss: 0.3810 - accuracy: 0.8284 - val_loss: 0.3756 - val_accuracy: 0.8352\n",
      "Epoch 34/50\n",
      "7160/7160 [==============================] - 1s 153us/step - loss: 0.3763 - accuracy: 0.8310 - val_loss: 0.3592 - val_accuracy: 0.8475\n",
      "Epoch 35/50\n",
      "7160/7160 [==============================] - 1s 145us/step - loss: 0.3697 - accuracy: 0.8366 - val_loss: 0.3624 - val_accuracy: 0.8592\n",
      "Epoch 36/50\n",
      "7160/7160 [==============================] - 1s 148us/step - loss: 0.3721 - accuracy: 0.8353 - val_loss: 0.3642 - val_accuracy: 0.8497\n",
      "Epoch 37/50\n",
      "7160/7160 [==============================] - 1s 156us/step - loss: 0.3664 - accuracy: 0.8356 - val_loss: 0.3716 - val_accuracy: 0.8425\n",
      "Epoch 38/50\n",
      "7160/7160 [==============================] - 1s 152us/step - loss: 0.3677 - accuracy: 0.8309 - val_loss: 0.3683 - val_accuracy: 0.8542\n",
      "Epoch 39/50\n",
      "7160/7160 [==============================] - 1s 157us/step - loss: 0.3659 - accuracy: 0.8355 - val_loss: 0.3636 - val_accuracy: 0.8492\n",
      "Epoch 40/50\n",
      "7160/7160 [==============================] - 1s 145us/step - loss: 0.3696 - accuracy: 0.8366 - val_loss: 0.3640 - val_accuracy: 0.8458\n",
      "Epoch 41/50\n",
      "7160/7160 [==============================] - 1s 145us/step - loss: 0.3589 - accuracy: 0.8412 - val_loss: 0.3629 - val_accuracy: 0.8486\n",
      "Epoch 42/50\n",
      "7160/7160 [==============================] - 1s 146us/step - loss: 0.3640 - accuracy: 0.8377 - val_loss: 0.3581 - val_accuracy: 0.8520\n",
      "Epoch 43/50\n",
      "7160/7160 [==============================] - 1s 148us/step - loss: 0.3595 - accuracy: 0.8415 - val_loss: 0.3683 - val_accuracy: 0.8469\n",
      "Epoch 44/50\n",
      "7160/7160 [==============================] - 1s 153us/step - loss: 0.3502 - accuracy: 0.8497 - val_loss: 0.3645 - val_accuracy: 0.8425\n",
      "Epoch 45/50\n",
      "7160/7160 [==============================] - 1s 166us/step - loss: 0.3455 - accuracy: 0.8425 - val_loss: 0.3683 - val_accuracy: 0.8380\n",
      "Epoch 46/50\n",
      "7160/7160 [==============================] - 1s 148us/step - loss: 0.3479 - accuracy: 0.8457 - val_loss: 0.3609 - val_accuracy: 0.8503\n",
      "Epoch 47/50\n",
      "7160/7160 [==============================] - 1s 165us/step - loss: 0.3499 - accuracy: 0.8458 - val_loss: 0.3547 - val_accuracy: 0.8464\n",
      "Epoch 48/50\n",
      "7160/7160 [==============================] - 1s 164us/step - loss: 0.3466 - accuracy: 0.8472 - val_loss: 0.3619 - val_accuracy: 0.8425\n",
      "Epoch 49/50\n",
      "7160/7160 [==============================] - 1s 155us/step - loss: 0.3477 - accuracy: 0.8521 - val_loss: 0.3653 - val_accuracy: 0.8397\n",
      "Epoch 50/50\n",
      "7160/7160 [==============================] - 1s 143us/step - loss: 0.3411 - accuracy: 0.8453 - val_loss: 0.3535 - val_accuracy: 0.8508\n"
     ]
    }
   ],
   "source": [
    "model.compile(optimizer='sgd',\n",
    "              loss='categorical_crossentropy',\n",
    "              metrics=['accuracy'])\n",
    "history = model.fit(x_train, y_train, \n",
    "                  epochs=50, \n",
    "                  batch_size=32, \n",
    "                  verbose=1, \n",
    "                  validation_data=(x_validate, y_validate))  "
   ]
  },
  {
   "cell_type": "markdown",
   "metadata": {},
   "source": [
    "Visualize learning process<br>\n",
    "We will plot training/test accuary and loss"
   ]
  },
  {
   "cell_type": "code",
   "execution_count": 18,
   "metadata": {},
   "outputs": [
    {
     "data": {
      "image/png": "[encoded data removed]",
      "text/plain": [
       "<Figure size 432x288 with 1 Axes>"
      ]
     },
     "metadata": {
      "needs_background": "light"
     },
     "output_type": "display_data"
    }
   ],
   "source": [
    "plt.plot(history.history['accuracy'])\n",
    "plt.plot(history.history['val_accuracy'])\n",
    "plt.title('model accuracy')\n",
    "plt.ylabel('accuracy')\n",
    "plt.xlabel('epoch')\n",
    "plt.legend(['train', 'test'], loc='upper left')\n",
    "plt.show()"
   ]
  },
  {
   "cell_type": "code",
   "execution_count": 19,
   "metadata": {},
   "outputs": [
    {
     "data": {
      "image/png": "[encoded data removed]",
      "text/plain": [
       "<Figure size 432x288 with 1 Axes>"
      ]
     },
     "metadata": {
      "needs_background": "light"
     },
     "output_type": "display_data"
    }
   ],
   "source": [
    "plt.plot(history.history['loss'])\n",
    "plt.plot(history.history['val_loss'])\n",
    "plt.title('model loss')\n",
    "plt.ylabel('loss')\n",
    "plt.xlabel('epoch')\n",
    "plt.legend(['train', 'test'], loc='upper left')\n",
    "plt.show()"
   ]
  },
  {
   "cell_type": "markdown",
   "metadata": {},
   "source": [
    "Save trained model in .h5 file"
   ]
  },
  {
   "cell_type": "code",
   "execution_count": 20,
   "metadata": {},
   "outputs": [],
   "source": [
    "model.save('mutiple_layers_CNN_model.h5')"
   ]
  }
 ],
 "metadata": {
  "kernelspec": {
   "display_name": "Python 3",
   "language": "python",
   "name": "python3"
  },
  "language_info": {
   "codemirror_mode": {
    "name": "ipython",
    "version": 3
   },
   "file_extension": ".py",
   "mimetype": "text/x-python",
   "name": "python",
   "nbconvert_exporter": "python",
   "pygments_lexer": "ipython3",
   "version": "3.7.3"
  }
 },
 "nbformat": 4,
 "nbformat_minor": 2
}
