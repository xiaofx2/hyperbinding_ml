{
 "cells": [
  {
   "cell_type": "code",
   "execution_count": 1,
   "metadata": {},
   "outputs": [
    {
     "name": "stderr",
     "output_type": "stream",
     "text": [
      "Using TensorFlow backend.\n"
     ]
    }
   ],
   "source": [
    "import pandas as pd\n",
    "import numpy as np\n",
    "import matplotlib.pyplot as plt\n",
    "from keras.utils import to_categorical"
   ]
  },
  {
   "cell_type": "code",
   "execution_count": 2,
   "metadata": {},
   "outputs": [],
   "source": [
    "import sys\n",
    "sys.path.append(\"../..\")\n",
    "from hyperbinding import Input_matrix_generation"
   ]
  },
  {
   "cell_type": "code",
   "execution_count": 3,
   "metadata": {},
   "outputs": [],
   "source": [
    "df = pd.read_csv('../../hyperbinding/data/Labeled-HLA-A-0201.csv')"
   ]
  },
  {
   "cell_type": "code",
   "execution_count": 4,
   "metadata": {
    "scrolled": true
   },
   "outputs": [],
   "source": [
    "df_dataset = df[['sequence','label']]"
   ]
  },
  {
   "cell_type": "code",
   "execution_count": 5,
   "metadata": {},
   "outputs": [
    {
     "data": {
      "text/plain": [
       "(8950, 2)"
      ]
     },
     "execution_count": 5,
     "metadata": {},
     "output_type": "execute_result"
    }
   ],
   "source": [
    "df_dataset.shape"
   ]
  },
  {
   "cell_type": "code",
   "execution_count": 6,
   "metadata": {},
   "outputs": [],
   "source": [
    "y_data = []\n",
    "for label in df_dataset['label']:\n",
    "    if label == 'P':\n",
    "        y_data.append([0])\n",
    "    elif label == 'N':\n",
    "        y_data.append([1])\n",
    "    else:\n",
    "        continue\n",
    "y_data = np.array(y_data)"
   ]
  },
  {
   "cell_type": "code",
   "execution_count": 7,
   "metadata": {},
   "outputs": [],
   "source": [
    "y_data = to_categorical(y_data)"
   ]
  },
  {
   "cell_type": "code",
   "execution_count": 8,
   "metadata": {},
   "outputs": [],
   "source": [
    "x_data = []\n",
    "for sequence in df_dataset['sequence']:\n",
    "    x_data.append(Input_matrix_generation.sequence_to_matrix(sequence))\n",
    "x_data = np.array(x_data, dtype = 'float32')"
   ]
  },
  {
   "cell_type": "code",
   "execution_count": 9,
   "metadata": {},
   "outputs": [
    {
     "data": {
      "text/plain": [
       "(8950, 5, 12)"
      ]
     },
     "execution_count": 9,
     "metadata": {},
     "output_type": "execute_result"
    }
   ],
   "source": [
    "x_data.shape"
   ]
  },
  {
   "cell_type": "code",
   "execution_count": 10,
   "metadata": {},
   "outputs": [],
   "source": [
    "x_data = x_data.reshape((x_data.shape[0],5,12,1))"
   ]
  },
  {
   "cell_type": "code",
   "execution_count": 11,
   "metadata": {},
   "outputs": [],
   "source": [
    "from sklearn.model_selection import train_test_split\n",
    "x_train,x_validate,y_train,y_validate = train_test_split(x_data,y_data,test_size = 0.2)"
   ]
  },
  {
   "cell_type": "code",
   "execution_count": 12,
   "metadata": {},
   "outputs": [],
   "source": [
    "import keras\n",
    "from keras import layers\n",
    "from keras import models"
   ]
  },
  {
   "cell_type": "code",
   "execution_count": 13,
   "metadata": {},
   "outputs": [],
   "source": [
    "model=models.Sequential()\n",
    "\n",
    "model.add(layers.Conv2D(32, (2, 2), activation='relu', input_shape=(5, 12, 1))) \n",
    "model.add(layers.MaxPooling2D((2, 2)))\n",
    "\n",
    "model.add(layers.Conv2D(64, (1, 1), activation='relu')) \n",
    "model.add(layers.MaxPooling2D((2, 2)))\n",
    "\n",
    "model.add(layers.Flatten())\n",
    "model.add(layers.Dense(256, activation='relu'))\n",
    "model.add(layers.Dense(128, activation='relu'))\n",
    "model.add(layers.Dropout(0.2))\n",
    "model.add(layers.Dense(2, activation='softmax'))\n",
    "sgd = keras.optimizers.SGD(lr=0.00001, decay=1e-6, momentum=0.6, nesterov=True)"
   ]
  },
  {
   "cell_type": "code",
   "execution_count": 14,
   "metadata": {},
   "outputs": [
    {
     "name": "stdout",
     "output_type": "stream",
     "text": [
      "Train on 7160 samples, validate on 1790 samples\n",
      "Epoch 1/50\n",
      "7160/7160 [==============================] - 1s 86us/step - loss: 0.7510 - accuracy: 0.6626 - val_loss: 0.5189 - val_accuracy: 0.6760\n",
      "Epoch 2/50\n",
      "7160/7160 [==============================] - 0s 67us/step - loss: 0.5071 - accuracy: 0.6940 - val_loss: 0.5114 - val_accuracy: 0.7084\n",
      "Epoch 3/50\n",
      "7160/7160 [==============================] - 0s 65us/step - loss: 0.5033 - accuracy: 0.6933 - val_loss: 0.5198 - val_accuracy: 0.6804\n",
      "Epoch 4/50\n",
      "7160/7160 [==============================] - 0s 63us/step - loss: 0.4975 - accuracy: 0.7004 - val_loss: 0.5137 - val_accuracy: 0.6905\n",
      "Epoch 5/50\n",
      "7160/7160 [==============================] - 0s 65us/step - loss: 0.4934 - accuracy: 0.7108 - val_loss: 0.5169 - val_accuracy: 0.6737\n",
      "Epoch 6/50\n",
      "7160/7160 [==============================] - 0s 65us/step - loss: 0.4845 - accuracy: 0.7225 - val_loss: 0.4969 - val_accuracy: 0.7229\n",
      "Epoch 7/50\n",
      "7160/7160 [==============================] - 0s 64us/step - loss: 0.4794 - accuracy: 0.7285 - val_loss: 0.4753 - val_accuracy: 0.7486\n",
      "Epoch 8/50\n",
      "7160/7160 [==============================] - 0s 64us/step - loss: 0.4636 - accuracy: 0.7469 - val_loss: 0.4777 - val_accuracy: 0.7413\n",
      "Epoch 9/50\n",
      "7160/7160 [==============================] - 0s 67us/step - loss: 0.4494 - accuracy: 0.7630 - val_loss: 0.5645 - val_accuracy: 0.6737\n",
      "Epoch 10/50\n",
      "7160/7160 [==============================] - 0s 64us/step - loss: 0.4348 - accuracy: 0.7777 - val_loss: 0.4741 - val_accuracy: 0.7313\n",
      "Epoch 11/50\n",
      "7160/7160 [==============================] - 0s 65us/step - loss: 0.4182 - accuracy: 0.7904 - val_loss: 0.4483 - val_accuracy: 0.7631\n",
      "Epoch 12/50\n",
      "7160/7160 [==============================] - 0s 65us/step - loss: 0.4259 - accuracy: 0.7841 - val_loss: 0.4554 - val_accuracy: 0.7659\n",
      "Epoch 13/50\n",
      "7160/7160 [==============================] - 0s 68us/step - loss: 0.4149 - accuracy: 0.7939 - val_loss: 0.4281 - val_accuracy: 0.7855\n",
      "Epoch 14/50\n",
      "7160/7160 [==============================] - 0s 64us/step - loss: 0.4112 - accuracy: 0.7946 - val_loss: 0.4246 - val_accuracy: 0.7855\n",
      "Epoch 15/50\n",
      "7160/7160 [==============================] - 0s 69us/step - loss: 0.4112 - accuracy: 0.7985 - val_loss: 0.4266 - val_accuracy: 0.7855\n",
      "Epoch 16/50\n",
      "7160/7160 [==============================] - 0s 67us/step - loss: 0.4087 - accuracy: 0.7983 - val_loss: 0.4732 - val_accuracy: 0.7497\n",
      "Epoch 17/50\n",
      "7160/7160 [==============================] - 0s 64us/step - loss: 0.4058 - accuracy: 0.7940 - val_loss: 0.4224 - val_accuracy: 0.7916\n",
      "Epoch 18/50\n",
      "7160/7160 [==============================] - 0s 67us/step - loss: 0.4045 - accuracy: 0.8007 - val_loss: 0.4220 - val_accuracy: 0.7933\n",
      "Epoch 19/50\n",
      "7160/7160 [==============================] - 0s 64us/step - loss: 0.3991 - accuracy: 0.8022 - val_loss: 0.4414 - val_accuracy: 0.7721\n",
      "Epoch 20/50\n",
      "7160/7160 [==============================] - 0s 66us/step - loss: 0.4004 - accuracy: 0.8041 - val_loss: 0.4147 - val_accuracy: 0.7972\n",
      "Epoch 21/50\n",
      "7160/7160 [==============================] - 0s 64us/step - loss: 0.3979 - accuracy: 0.8043 - val_loss: 0.4177 - val_accuracy: 0.7966\n",
      "Epoch 22/50\n",
      "7160/7160 [==============================] - 0s 64us/step - loss: 0.3968 - accuracy: 0.8041 - val_loss: 0.4170 - val_accuracy: 0.8011\n",
      "Epoch 23/50\n",
      "7160/7160 [==============================] - 0s 67us/step - loss: 0.3941 - accuracy: 0.8081 - val_loss: 0.4244 - val_accuracy: 0.7883\n",
      "Epoch 24/50\n",
      "7160/7160 [==============================] - 0s 66us/step - loss: 0.3955 - accuracy: 0.8045 - val_loss: 0.4438 - val_accuracy: 0.7642\n",
      "Epoch 25/50\n",
      "7160/7160 [==============================] - 0s 66us/step - loss: 0.3955 - accuracy: 0.8087 - val_loss: 0.4157 - val_accuracy: 0.8000\n",
      "Epoch 26/50\n",
      "7160/7160 [==============================] - 0s 65us/step - loss: 0.3948 - accuracy: 0.8071 - val_loss: 0.4116 - val_accuracy: 0.8006\n",
      "Epoch 27/50\n",
      "7160/7160 [==============================] - 0s 65us/step - loss: 0.3937 - accuracy: 0.8115 - val_loss: 0.4106 - val_accuracy: 0.8028\n",
      "Epoch 28/50\n",
      "7160/7160 [==============================] - 1s 73us/step - loss: 0.3908 - accuracy: 0.8117 - val_loss: 0.4500 - val_accuracy: 0.7709\n",
      "Epoch 29/50\n",
      "7160/7160 [==============================] - 0s 67us/step - loss: 0.3925 - accuracy: 0.8099 - val_loss: 0.4134 - val_accuracy: 0.7972\n",
      "Epoch 30/50\n",
      "7160/7160 [==============================] - 0s 64us/step - loss: 0.3910 - accuracy: 0.8094 - val_loss: 0.4157 - val_accuracy: 0.7944\n",
      "Epoch 31/50\n",
      "7160/7160 [==============================] - 0s 65us/step - loss: 0.3920 - accuracy: 0.8102 - val_loss: 0.4145 - val_accuracy: 0.8045\n",
      "Epoch 32/50\n",
      "7160/7160 [==============================] - 0s 64us/step - loss: 0.3911 - accuracy: 0.8046 - val_loss: 0.4163 - val_accuracy: 0.7905\n",
      "Epoch 33/50\n",
      "7160/7160 [==============================] - 0s 67us/step - loss: 0.3858 - accuracy: 0.8116 - val_loss: 0.4149 - val_accuracy: 0.7978\n",
      "Epoch 34/50\n",
      "7160/7160 [==============================] - 0s 65us/step - loss: 0.3865 - accuracy: 0.8092 - val_loss: 0.4280 - val_accuracy: 0.7944\n",
      "Epoch 35/50\n",
      "7160/7160 [==============================] - 0s 64us/step - loss: 0.3858 - accuracy: 0.8135 - val_loss: 0.4105 - val_accuracy: 0.8022\n",
      "Epoch 36/50\n",
      "7160/7160 [==============================] - 0s 67us/step - loss: 0.3871 - accuracy: 0.8109 - val_loss: 0.4316 - val_accuracy: 0.7743\n",
      "Epoch 37/50\n",
      "7160/7160 [==============================] - 0s 65us/step - loss: 0.3832 - accuracy: 0.8117 - val_loss: 0.4195 - val_accuracy: 0.7939\n",
      "Epoch 38/50\n",
      "7160/7160 [==============================] - 0s 68us/step - loss: 0.3854 - accuracy: 0.8096 - val_loss: 0.4096 - val_accuracy: 0.8028\n",
      "Epoch 39/50\n",
      "7160/7160 [==============================] - 0s 64us/step - loss: 0.3828 - accuracy: 0.8177 - val_loss: 0.4099 - val_accuracy: 0.8078\n",
      "Epoch 40/50\n",
      "7160/7160 [==============================] - 0s 67us/step - loss: 0.3809 - accuracy: 0.8074 - val_loss: 0.4147 - val_accuracy: 0.7989\n",
      "Epoch 41/50\n",
      "7160/7160 [==============================] - 0s 63us/step - loss: 0.3823 - accuracy: 0.8138 - val_loss: 0.4065 - val_accuracy: 0.8089\n",
      "Epoch 42/50\n",
      "7160/7160 [==============================] - 0s 64us/step - loss: 0.3807 - accuracy: 0.8152 - val_loss: 0.4086 - val_accuracy: 0.8050\n",
      "Epoch 43/50\n",
      "7160/7160 [==============================] - 0s 65us/step - loss: 0.3814 - accuracy: 0.8133 - val_loss: 0.4196 - val_accuracy: 0.7989\n",
      "Epoch 44/50\n",
      "7160/7160 [==============================] - 0s 64us/step - loss: 0.3775 - accuracy: 0.8159 - val_loss: 0.4272 - val_accuracy: 0.7810\n",
      "Epoch 45/50\n",
      "7160/7160 [==============================] - 0s 66us/step - loss: 0.3780 - accuracy: 0.8162 - val_loss: 0.4044 - val_accuracy: 0.8084\n",
      "Epoch 46/50\n",
      "7160/7160 [==============================] - 0s 63us/step - loss: 0.3787 - accuracy: 0.8148 - val_loss: 0.4077 - val_accuracy: 0.8050\n",
      "Epoch 47/50\n",
      "7160/7160 [==============================] - 0s 66us/step - loss: 0.3788 - accuracy: 0.8109 - val_loss: 0.4113 - val_accuracy: 0.7989\n",
      "Epoch 48/50\n",
      "7160/7160 [==============================] - 0s 62us/step - loss: 0.3786 - accuracy: 0.8162 - val_loss: 0.4050 - val_accuracy: 0.8101\n",
      "Epoch 49/50\n",
      "7160/7160 [==============================] - 0s 64us/step - loss: 0.3769 - accuracy: 0.8196 - val_loss: 0.4112 - val_accuracy: 0.8034\n",
      "Epoch 50/50\n",
      "7160/7160 [==============================] - 0s 67us/step - loss: 0.3752 - accuracy: 0.8183 - val_loss: 0.4133 - val_accuracy: 0.7994\n"
     ]
    }
   ],
   "source": [
    "model.compile(optimizer='sgd',\n",
    "              loss='categorical_crossentropy',\n",
    "              metrics=['accuracy'])\n",
    "history = model.fit(x_train, y_train, \n",
    "              epochs=50, \n",
    "              batch_size=32, \n",
    "              verbose=1, \n",
    "              validation_data=(x_validate, y_validate))"
   ]
  },
  {
   "cell_type": "code",
   "execution_count": 15,
   "metadata": {},
   "outputs": [
    {
     "data": {
      "image/png": "[encoded data removed]",
      "text/plain": [
       "<Figure size 432x288 with 1 Axes>"
      ]
     },
     "metadata": {
      "needs_background": "light"
     },
     "output_type": "display_data"
    }
   ],
   "source": [
    "plt.plot(history.history['accuracy'])\n",
    "plt.plot(history.history['val_accuracy'])\n",
    "plt.title('model accuracy')\n",
    "plt.ylabel('accuracy')\n",
    "plt.xlabel('epoch')\n",
    "plt.legend(['train', 'test'], loc='upper left')\n",
    "plt.show()"
   ]
  },
  {
   "cell_type": "code",
   "execution_count": 16,
   "metadata": {},
   "outputs": [
    {
     "data": {
      "image/png": "[encoded data removed]",
      "text/plain": [
       "<Figure size 432x288 with 1 Axes>"
      ]
     },
     "metadata": {
      "needs_background": "light"
     },
     "output_type": "display_data"
    }
   ],
   "source": [
    "plt.plot(history.history['loss'])\n",
    "plt.plot(history.history['val_loss'])\n",
    "plt.title('model loss')\n",
    "plt.ylabel('loss')\n",
    "plt.xlabel('epoch')\n",
    "plt.legend(['train', 'test'], loc='upper left')\n",
    "plt.show()"
   ]
  },
  {
   "cell_type": "code",
   "execution_count": 17,
   "metadata": {},
   "outputs": [],
   "source": [
    "model.save('one_channel_CNN_model.h5')"
   ]
  },
  {
   "cell_type": "code",
   "execution_count": null,
   "metadata": {},
   "outputs": [],
   "source": []
  },
  {
   "cell_type": "code",
   "execution_count": null,
   "metadata": {},
   "outputs": [],
   "source": []
  }
 ],
 "metadata": {
  "kernelspec": {
   "display_name": "Python 3",
   "language": "python",
   "name": "python3"
  },
  "language_info": {
   "codemirror_mode": {
    "name": "ipython",
    "version": 3
   },
   "file_extension": ".py",
   "mimetype": "text/x-python",
   "name": "python",
   "nbconvert_exporter": "python",
   "pygments_lexer": "ipython3",
   "version": "3.7.3"
  }
 },
 "nbformat": 4,
 "nbformat_minor": 2
}
