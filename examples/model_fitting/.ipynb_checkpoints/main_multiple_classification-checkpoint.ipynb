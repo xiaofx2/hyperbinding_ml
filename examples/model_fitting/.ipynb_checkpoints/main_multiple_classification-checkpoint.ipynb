{
 "cells": [
  {
   "cell_type": "code",
   "execution_count": 1,
   "metadata": {},
   "outputs": [],
   "source": [
    "import pandas as pd\n",
    "import numpy as np\n",
    "import matplotlib.pyplot as plt"
   ]
  },
  {
   "cell_type": "code",
   "execution_count": 2,
   "metadata": {},
   "outputs": [
    {
     "name": "stderr",
     "output_type": "stream",
     "text": [
      "Using TensorFlow backend.\n"
     ]
    }
   ],
   "source": [
    "import keras\n",
    "from keras.utils import to_categorical"
   ]
  },
  {
   "cell_type": "code",
   "execution_count": 3,
   "metadata": {},
   "outputs": [],
   "source": [
    "import sys\n",
    "sys.path.append(\"../..\")\n",
    "from hyperbinding import multiple_channel_matrix_generator"
   ]
  },
  {
   "cell_type": "code",
   "execution_count": 4,
   "metadata": {},
   "outputs": [],
   "source": [
    "df = pd.read_csv('../../hyperbinding/data/multi-Labeled-HLA-A-0201.csv')"
   ]
  },
  {
   "cell_type": "code",
   "execution_count": 5,
   "metadata": {},
   "outputs": [],
   "source": [
    "df_dataset = df[['sequence','label']]"
   ]
  },
  {
   "cell_type": "code",
   "execution_count": 6,
   "metadata": {},
   "outputs": [],
   "source": [
    "y_data = []\n",
    "for label in df_dataset['label']:\n",
    "    y_data.append(label)\n",
    "y_data = np.array(y_data)"
   ]
  },
  {
   "cell_type": "code",
   "execution_count": 7,
   "metadata": {},
   "outputs": [],
   "source": [
    "y_data = to_categorical(y_data)"
   ]
  },
  {
   "cell_type": "code",
   "execution_count": 8,
   "metadata": {},
   "outputs": [],
   "source": [
    "x_data = []\n",
    "for sequence in df_dataset['sequence']:\n",
    "    x_data.append(multiple_channel_matrix_generator.multiple_channel_generator(sequence))\n",
    "x_data = np.array(x_data, dtype = 'float32')"
   ]
  },
  {
   "cell_type": "code",
   "execution_count": 9,
   "metadata": {},
   "outputs": [],
   "source": [
    "x_data = x_data.reshape((x_data.shape[0],12,21,3))"
   ]
  },
  {
   "cell_type": "code",
   "execution_count": 10,
   "metadata": {},
   "outputs": [],
   "source": [
    "from sklearn.model_selection import train_test_split\n",
    "x_train,x_validate,y_train,y_validate = train_test_split(x_data,y_data,test_size = 0.2) "
   ]
  },
  {
   "cell_type": "code",
   "execution_count": 11,
   "metadata": {},
   "outputs": [],
   "source": [
    "from keras import layers\n",
    "from keras import models"
   ]
  },
  {
   "cell_type": "code",
   "execution_count": 12,
   "metadata": {},
   "outputs": [],
   "source": [
    "model=models.Sequential()\n",
    "model.add(layers.Conv2D(32, (2, 2), activation='relu', input_shape=(12,21,3))) \n",
    "model.add(layers.MaxPooling2D((2, 2))) \n",
    "model.add(layers.Dropout(0.2))\n",
    "\n",
    "model.add(layers.Conv2D(64, (2, 2), activation='relu')) \n",
    "model.add(layers.MaxPooling2D((2, 2))) \n",
    "model.add(layers.Dropout(0.2))\n",
    "\n",
    "model.add(layers.Flatten())\n",
    "\n",
    "model.add(layers.Dense(256, activation='relu'))\n",
    "model.add(layers.Dense(128, activation='relu'))  \n",
    "model.add(layers.Dropout(0.2))\n",
    "model.add(layers.Dense(5, activation='softmax'))\n",
    "sgd = keras.optimizers.SGD(lr=0.00001, decay=1e-6, momentum=0.5, nesterov=True) "
   ]
  },
  {
   "cell_type": "code",
   "execution_count": 13,
   "metadata": {},
   "outputs": [
    {
     "name": "stdout",
     "output_type": "stream",
     "text": [
      "Train on 9696 samples, validate on 2424 samples\n",
      "Epoch 1/50\n",
      "9696/9696 [==============================] - 2s 165us/step - loss: 1.8133 - accuracy: 0.2720 - val_loss: 1.4413 - val_accuracy: 0.3573\n",
      "Epoch 2/50\n",
      "9696/9696 [==============================] - 1s 138us/step - loss: 1.4599 - accuracy: 0.3254 - val_loss: 1.4198 - val_accuracy: 0.3540\n",
      "Epoch 3/50\n",
      "9696/9696 [==============================] - 1s 139us/step - loss: 1.4153 - accuracy: 0.3538 - val_loss: 1.3526 - val_accuracy: 0.3791\n",
      "Epoch 4/50\n",
      "9696/9696 [==============================] - 1s 137us/step - loss: 1.4004 - accuracy: 0.3637 - val_loss: 1.3424 - val_accuracy: 0.3833\n",
      "Epoch 5/50\n",
      "9696/9696 [==============================] - 1s 133us/step - loss: 1.3862 - accuracy: 0.3639 - val_loss: 1.3240 - val_accuracy: 0.3932\n",
      "Epoch 6/50\n",
      "9696/9696 [==============================] - 1s 138us/step - loss: 1.3694 - accuracy: 0.3787 - val_loss: 1.3187 - val_accuracy: 0.4047\n",
      "Epoch 7/50\n",
      "9696/9696 [==============================] - 1s 140us/step - loss: 1.3569 - accuracy: 0.3852 - val_loss: 1.3007 - val_accuracy: 0.4282\n",
      "Epoch 8/50\n",
      "9696/9696 [==============================] - 1s 139us/step - loss: 1.3439 - accuracy: 0.3897 - val_loss: 1.3066 - val_accuracy: 0.4068\n",
      "Epoch 9/50\n",
      "9696/9696 [==============================] - 1s 143us/step - loss: 1.3353 - accuracy: 0.3976 - val_loss: 1.3083 - val_accuracy: 0.3911\n",
      "Epoch 10/50\n",
      "9696/9696 [==============================] - 1s 142us/step - loss: 1.3266 - accuracy: 0.4007 - val_loss: 1.2931 - val_accuracy: 0.4220\n",
      "Epoch 11/50\n",
      "9696/9696 [==============================] - 1s 140us/step - loss: 1.3287 - accuracy: 0.3982 - val_loss: 1.2825 - val_accuracy: 0.4344\n",
      "Epoch 12/50\n",
      "9696/9696 [==============================] - 1s 139us/step - loss: 1.3196 - accuracy: 0.4071 - val_loss: 1.2938 - val_accuracy: 0.4146\n",
      "Epoch 13/50\n",
      "9696/9696 [==============================] - 1s 140us/step - loss: 1.3129 - accuracy: 0.4100 - val_loss: 1.2714 - val_accuracy: 0.4257\n",
      "Epoch 14/50\n",
      "9696/9696 [==============================] - 1s 140us/step - loss: 1.3113 - accuracy: 0.4107 - val_loss: 1.2812 - val_accuracy: 0.4191\n",
      "Epoch 15/50\n",
      "9696/9696 [==============================] - 1s 139us/step - loss: 1.2988 - accuracy: 0.4130 - val_loss: 1.2812 - val_accuracy: 0.4389\n",
      "Epoch 16/50\n",
      "9696/9696 [==============================] - 1s 144us/step - loss: 1.2958 - accuracy: 0.4187 - val_loss: 1.2635 - val_accuracy: 0.4344\n",
      "Epoch 17/50\n",
      "9696/9696 [==============================] - 1s 144us/step - loss: 1.2927 - accuracy: 0.4220 - val_loss: 1.2648 - val_accuracy: 0.4406\n",
      "Epoch 18/50\n",
      "9696/9696 [==============================] - 1s 140us/step - loss: 1.2876 - accuracy: 0.4163 - val_loss: 1.2894 - val_accuracy: 0.4084\n",
      "Epoch 19/50\n",
      "9696/9696 [==============================] - 1s 140us/step - loss: 1.2834 - accuracy: 0.4245 - val_loss: 1.2469 - val_accuracy: 0.4451\n",
      "Epoch 20/50\n",
      "9696/9696 [==============================] - 1s 142us/step - loss: 1.2772 - accuracy: 0.4237 - val_loss: 1.2641 - val_accuracy: 0.4348\n",
      "Epoch 21/50\n",
      "9696/9696 [==============================] - 1s 142us/step - loss: 1.2748 - accuracy: 0.4284 - val_loss: 1.2589 - val_accuracy: 0.4398\n",
      "Epoch 22/50\n",
      "9696/9696 [==============================] - 1s 143us/step - loss: 1.2821 - accuracy: 0.4199 - val_loss: 1.2560 - val_accuracy: 0.4414\n",
      "Epoch 23/50\n",
      "9696/9696 [==============================] - 2s 157us/step - loss: 1.2663 - accuracy: 0.4320 - val_loss: 1.2544 - val_accuracy: 0.4410\n",
      "Epoch 24/50\n",
      "9696/9696 [==============================] - 2s 171us/step - loss: 1.2663 - accuracy: 0.4364 - val_loss: 1.2512 - val_accuracy: 0.4455\n",
      "Epoch 25/50\n",
      "9696/9696 [==============================] - 2s 164us/step - loss: 1.2535 - accuracy: 0.4462 - val_loss: 1.2534 - val_accuracy: 0.4414\n",
      "Epoch 26/50\n",
      "9696/9696 [==============================] - 2s 158us/step - loss: 1.2554 - accuracy: 0.4469 - val_loss: 1.2443 - val_accuracy: 0.4493\n",
      "Epoch 27/50\n",
      "9696/9696 [==============================] - 2s 155us/step - loss: 1.2527 - accuracy: 0.4444 - val_loss: 1.2468 - val_accuracy: 0.4422\n",
      "Epoch 28/50\n",
      "9696/9696 [==============================] - 1s 153us/step - loss: 1.2541 - accuracy: 0.4464 - val_loss: 1.2347 - val_accuracy: 0.4550\n",
      "Epoch 29/50\n",
      "9696/9696 [==============================] - 1s 149us/step - loss: 1.2476 - accuracy: 0.4505 - val_loss: 1.2411 - val_accuracy: 0.4472\n",
      "Epoch 30/50\n",
      "9696/9696 [==============================] - 1s 145us/step - loss: 1.2456 - accuracy: 0.4413 - val_loss: 1.2404 - val_accuracy: 0.4608\n",
      "Epoch 31/50\n",
      "9696/9696 [==============================] - 1s 145us/step - loss: 1.2416 - accuracy: 0.4462 - val_loss: 1.2356 - val_accuracy: 0.4587\n",
      "Epoch 32/50\n",
      "9696/9696 [==============================] - 1s 147us/step - loss: 1.2428 - accuracy: 0.4473 - val_loss: 1.2578 - val_accuracy: 0.4435\n",
      "Epoch 33/50\n",
      "9696/9696 [==============================] - 1s 142us/step - loss: 1.2354 - accuracy: 0.4514 - val_loss: 1.2484 - val_accuracy: 0.4447\n",
      "Epoch 34/50\n",
      "9696/9696 [==============================] - 1s 142us/step - loss: 1.2284 - accuracy: 0.4479 - val_loss: 1.2544 - val_accuracy: 0.4497\n",
      "Epoch 35/50\n",
      "9696/9696 [==============================] - 1s 145us/step - loss: 1.2318 - accuracy: 0.4473 - val_loss: 1.2318 - val_accuracy: 0.4583\n",
      "Epoch 36/50\n",
      "9696/9696 [==============================] - 1s 142us/step - loss: 1.2256 - accuracy: 0.4521 - val_loss: 1.2390 - val_accuracy: 0.4550\n",
      "Epoch 37/50\n",
      "9696/9696 [==============================] - 1s 142us/step - loss: 1.2270 - accuracy: 0.4565 - val_loss: 1.2410 - val_accuracy: 0.4410\n",
      "Epoch 38/50\n",
      "9696/9696 [==============================] - 1s 146us/step - loss: 1.2152 - accuracy: 0.4569 - val_loss: 1.2365 - val_accuracy: 0.4521\n",
      "Epoch 39/50\n",
      "9696/9696 [==============================] - 1s 146us/step - loss: 1.2154 - accuracy: 0.4634 - val_loss: 1.2303 - val_accuracy: 0.4596\n",
      "Epoch 40/50\n",
      "9696/9696 [==============================] - 1s 145us/step - loss: 1.2216 - accuracy: 0.4549 - val_loss: 1.2386 - val_accuracy: 0.4546\n",
      "Epoch 41/50\n",
      "9696/9696 [==============================] - 1s 150us/step - loss: 1.2043 - accuracy: 0.4650 - val_loss: 1.2287 - val_accuracy: 0.4534\n",
      "Epoch 42/50\n",
      "9696/9696 [==============================] - 1s 149us/step - loss: 1.2100 - accuracy: 0.4702 - val_loss: 1.2366 - val_accuracy: 0.4476\n",
      "Epoch 43/50\n",
      "9696/9696 [==============================] - 1s 155us/step - loss: 1.2054 - accuracy: 0.4610 - val_loss: 1.2310 - val_accuracy: 0.4604\n",
      "Epoch 44/50\n",
      "9696/9696 [==============================] - 1s 148us/step - loss: 1.1991 - accuracy: 0.4656 - val_loss: 1.2330 - val_accuracy: 0.4559\n",
      "Epoch 45/50\n",
      "9696/9696 [==============================] - 1s 146us/step - loss: 1.2004 - accuracy: 0.4731 - val_loss: 1.2404 - val_accuracy: 0.4521\n",
      "Epoch 46/50\n",
      "9696/9696 [==============================] - 1s 147us/step - loss: 1.1911 - accuracy: 0.4692 - val_loss: 1.2290 - val_accuracy: 0.4616\n",
      "Epoch 47/50\n",
      "9696/9696 [==============================] - 1s 149us/step - loss: 1.1923 - accuracy: 0.4748 - val_loss: 1.2392 - val_accuracy: 0.4538\n",
      "Epoch 48/50\n",
      "9696/9696 [==============================] - 1s 145us/step - loss: 1.1984 - accuracy: 0.4674 - val_loss: 1.2304 - val_accuracy: 0.4575\n",
      "Epoch 49/50\n",
      "9696/9696 [==============================] - 1s 146us/step - loss: 1.1846 - accuracy: 0.4754 - val_loss: 1.2501 - val_accuracy: 0.4517\n",
      "Epoch 50/50\n",
      "9696/9696 [==============================] - 1s 149us/step - loss: 1.1825 - accuracy: 0.4774 - val_loss: 1.2401 - val_accuracy: 0.4637\n"
     ]
    }
   ],
   "source": [
    "model.compile(optimizer='sgd',\n",
    "              loss='categorical_crossentropy',\n",
    "              metrics=['accuracy'])\n",
    "history = model.fit(x_train, y_train, \n",
    "                  epochs=50, \n",
    "                  batch_size=32, \n",
    "                  verbose=1, \n",
    "                  validation_data=(x_validate, y_validate))  "
   ]
  },
  {
   "cell_type": "code",
   "execution_count": 14,
   "metadata": {},
   "outputs": [
    {
     "data": {
      "image/png": "[encoded data removed]",
      "text/plain": [
       "<Figure size 432x288 with 1 Axes>"
      ]
     },
     "metadata": {
      "needs_background": "light"
     },
     "output_type": "display_data"
    }
   ],
   "source": [
    "plt.plot(history.history['accuracy'])\n",
    "plt.plot(history.history['val_accuracy'])\n",
    "plt.title('model accuracy')\n",
    "plt.ylabel('accuracy')\n",
    "plt.xlabel('epoch')\n",
    "plt.legend(['train', 'test'], loc='upper left')\n",
    "plt.show()"
   ]
  },
  {
   "cell_type": "code",
   "execution_count": 15,
   "metadata": {},
   "outputs": [
    {
     "data": {
      "image/png": "[encoded data removed]",
      "text/plain": [
       "<Figure size 432x288 with 1 Axes>"
      ]
     },
     "metadata": {
      "needs_background": "light"
     },
     "output_type": "display_data"
    }
   ],
   "source": [
    "plt.plot(history.history['loss'])\n",
    "plt.plot(history.history['val_loss'])\n",
    "plt.title('model loss')\n",
    "plt.ylabel('loss')\n",
    "plt.xlabel('epoch')\n",
    "plt.legend(['train', 'test'], loc='upper left')\n",
    "plt.show()"
   ]
  },
  {
   "cell_type": "code",
   "execution_count": 16,
   "metadata": {
    "scrolled": true
   },
   "outputs": [],
   "source": [
    "model.save('multi_class_CNN_model.h5')"
   ]
  }
 ],
 "metadata": {
  "kernelspec": {
   "display_name": "Python 3",
   "language": "python",
   "name": "python3"
  },
  "language_info": {
   "codemirror_mode": {
    "name": "ipython",
    "version": 3
   },
   "file_extension": ".py",
   "mimetype": "text/x-python",
   "name": "python",
   "nbconvert_exporter": "python",
   "pygments_lexer": "ipython3",
   "version": "3.7.3"
  }
 },
 "nbformat": 4,
 "nbformat_minor": 2
}
