{
 "cells": [
  {
   "cell_type": "code",
   "execution_count": 1,
   "metadata": {},
   "outputs": [],
   "source": [
    "import pandas as pd\n",
    "import numpy as np\n",
    "import matplotlib.pyplot as plt\n",
    "import multiple_channel_matrix_generator"
   ]
  },
  {
   "cell_type": "code",
   "execution_count": 2,
   "metadata": {},
   "outputs": [
    {
     "name": "stderr",
     "output_type": "stream",
     "text": [
      "Using TensorFlow backend.\n"
     ]
    }
   ],
   "source": [
    "import keras\n",
    "from keras.utils import to_categorical"
   ]
  },
  {
   "cell_type": "code",
   "execution_count": 3,
   "metadata": {},
   "outputs": [],
   "source": [
    "df = pd.read_csv('/mnt/c/Users/majin/DIRECT/HyperBinding/Labeled-HLA-A-0201.csv')"
   ]
  },
  {
   "cell_type": "code",
   "execution_count": 4,
   "metadata": {},
   "outputs": [],
   "source": [
    "df_dataset = df[['sequence','label']]"
   ]
  },
  {
   "cell_type": "code",
   "execution_count": 5,
   "metadata": {},
   "outputs": [
    {
     "data": {
      "text/plain": [
       "(8950, 2)"
      ]
     },
     "execution_count": 5,
     "metadata": {},
     "output_type": "execute_result"
    }
   ],
   "source": [
    "df_dataset.shape"
   ]
  },
  {
   "cell_type": "code",
   "execution_count": 6,
   "metadata": {},
   "outputs": [
    {
     "data": {
      "text/html": [
       "<div>\n",
       "<style scoped>\n",
       "    .dataframe tbody tr th:only-of-type {\n",
       "        vertical-align: middle;\n",
       "    }\n",
       "\n",
       "    .dataframe tbody tr th {\n",
       "        vertical-align: top;\n",
       "    }\n",
       "\n",
       "    .dataframe thead th {\n",
       "        text-align: right;\n",
       "    }\n",
       "</style>\n",
       "<table border=\"1\" class=\"dataframe\">\n",
       "  <thead>\n",
       "    <tr style=\"text-align: right;\">\n",
       "      <th></th>\n",
       "      <th>sequence</th>\n",
       "      <th>label</th>\n",
       "    </tr>\n",
       "  </thead>\n",
       "  <tbody>\n",
       "    <tr>\n",
       "      <th>0</th>\n",
       "      <td>ILGFVFTL</td>\n",
       "      <td>P</td>\n",
       "    </tr>\n",
       "    <tr>\n",
       "      <th>1</th>\n",
       "      <td>FLGRIWPS</td>\n",
       "      <td>P</td>\n",
       "    </tr>\n",
       "    <tr>\n",
       "      <th>2</th>\n",
       "      <td>FLGKIWPS</td>\n",
       "      <td>P</td>\n",
       "    </tr>\n",
       "    <tr>\n",
       "      <th>3</th>\n",
       "      <td>FLGKIWSS</td>\n",
       "      <td>P</td>\n",
       "    </tr>\n",
       "    <tr>\n",
       "      <th>4</th>\n",
       "      <td>GLAVAMEV</td>\n",
       "      <td>P</td>\n",
       "    </tr>\n",
       "  </tbody>\n",
       "</table>\n",
       "</div>"
      ],
      "text/plain": [
       "   sequence label\n",
       "0  ILGFVFTL     P\n",
       "1  FLGRIWPS     P\n",
       "2  FLGKIWPS     P\n",
       "3  FLGKIWSS     P\n",
       "4  GLAVAMEV     P"
      ]
     },
     "execution_count": 6,
     "metadata": {},
     "output_type": "execute_result"
    }
   ],
   "source": [
    "df_dataset.head()"
   ]
  },
  {
   "cell_type": "code",
   "execution_count": 7,
   "metadata": {},
   "outputs": [],
   "source": [
    "y_data = []\n",
    "for label in df_dataset['label']:\n",
    "    if label == 'P':\n",
    "        y_data.append([0])\n",
    "    elif label == 'N':\n",
    "        y_data.append([1])\n",
    "    else:\n",
    "        continue\n",
    "y_data = np.array(y_data)"
   ]
  },
  {
   "cell_type": "code",
   "execution_count": 8,
   "metadata": {},
   "outputs": [],
   "source": [
    "y_data = to_categorical(y_data)"
   ]
  },
  {
   "cell_type": "code",
   "execution_count": 9,
   "metadata": {},
   "outputs": [],
   "source": [
    "x_data = []\n",
    "for sequence in df_dataset['sequence']:\n",
    "    x_data.append(multiple_channel_matrix_generator.multiple_channel_generator(sequence))\n",
    "x_data = np.array(x_data, dtype = 'float32')"
   ]
  },
  {
   "cell_type": "code",
   "execution_count": 10,
   "metadata": {},
   "outputs": [
    {
     "data": {
      "text/plain": [
       "(8950, 3, 12, 21)"
      ]
     },
     "execution_count": 10,
     "metadata": {},
     "output_type": "execute_result"
    }
   ],
   "source": [
    "x_data.shape"
   ]
  },
  {
   "cell_type": "code",
   "execution_count": 11,
   "metadata": {},
   "outputs": [],
   "source": [
    "x_data = x_data.reshape((x_data.shape[0],12,21,3))"
   ]
  },
  {
   "cell_type": "code",
   "execution_count": 12,
   "metadata": {},
   "outputs": [
    {
     "data": {
      "text/plain": [
       "(8950, 12, 21, 3)"
      ]
     },
     "execution_count": 12,
     "metadata": {},
     "output_type": "execute_result"
    }
   ],
   "source": [
    "x_data.shape"
   ]
  },
  {
   "cell_type": "code",
   "execution_count": 13,
   "metadata": {},
   "outputs": [],
   "source": [
    "from sklearn.model_selection import train_test_split\n",
    "x_train,x_validate,y_train,y_validate = train_test_split(x_data,y_data,test_size = 0.2) ##tunabel "
   ]
  },
  {
   "cell_type": "code",
   "execution_count": 14,
   "metadata": {},
   "outputs": [],
   "source": [
    "from keras import layers\n",
    "from keras import models"
   ]
  },
  {
   "cell_type": "code",
   "execution_count": 17,
   "metadata": {},
   "outputs": [],
   "source": [
    "model=models.Sequential()\n",
    "model.add(layers.Conv2D(32, (2, 2), activation='relu', input_shape=(12,21,3))) ##tunabel \n",
    "model.add(layers.MaxPooling2D((2, 2))) ##tunabel \n",
    "model.add(layers.Dropout(0.2))\n",
    "\n",
    "model.add(layers.Conv2D(64, (2, 2), activation='relu')) \n",
    "model.add(layers.MaxPooling2D((2, 2))) \n",
    "model.add(layers.Dropout(0.2))\n",
    "\n",
    "model.add(layers.Flatten())\n",
    "\n",
    "model.add(layers.Dense(256, activation='relu'))\n",
    "model.add(layers.Dense(128, activation='relu'))  \n",
    "model.add(layers.Dropout(0.2))\n",
    "model.add(layers.Dense(2, activation='softmax'))\n",
    "sgd = keras.optimizers.SGD(lr=0.00001, decay=1e-6, momentum=0.5, nesterov=True) "
   ]
  },
  {
   "cell_type": "code",
   "execution_count": 18,
   "metadata": {},
   "outputs": [
    {
     "name": "stdout",
     "output_type": "stream",
     "text": [
      "Train on 7160 samples, validate on 1790 samples\n",
      "Epoch 1/50\n",
      "7160/7160 [==============================] - 1s 159us/step - loss: 0.8938 - accuracy: 0.6330 - val_loss: 0.5431 - val_accuracy: 0.7419\n",
      "Epoch 2/50\n",
      "7160/7160 [==============================] - 1s 132us/step - loss: 0.5688 - accuracy: 0.7151 - val_loss: 0.5581 - val_accuracy: 0.7223\n",
      "Epoch 3/50\n",
      "7160/7160 [==============================] - 1s 129us/step - loss: 0.5484 - accuracy: 0.7265 - val_loss: 0.4815 - val_accuracy: 0.7676\n",
      "Epoch 4/50\n",
      "7160/7160 [==============================] - 1s 127us/step - loss: 0.5243 - accuracy: 0.7547 - val_loss: 0.4864 - val_accuracy: 0.7709\n",
      "Epoch 5/50\n",
      "7160/7160 [==============================] - 1s 128us/step - loss: 0.5156 - accuracy: 0.7535 - val_loss: 0.4992 - val_accuracy: 0.7587\n",
      "Epoch 6/50\n",
      "7160/7160 [==============================] - 1s 131us/step - loss: 0.5060 - accuracy: 0.7620 - val_loss: 0.5021 - val_accuracy: 0.7592\n",
      "Epoch 7/50\n",
      "7160/7160 [==============================] - 1s 129us/step - loss: 0.4979 - accuracy: 0.7642 - val_loss: 0.4969 - val_accuracy: 0.7737\n",
      "Epoch 8/50\n",
      "7160/7160 [==============================] - 1s 131us/step - loss: 0.4854 - accuracy: 0.7700 - val_loss: 0.4703 - val_accuracy: 0.7838\n",
      "Epoch 9/50\n",
      "7160/7160 [==============================] - 1s 128us/step - loss: 0.4832 - accuracy: 0.7807 - val_loss: 0.4533 - val_accuracy: 0.8011\n",
      "Epoch 10/50\n",
      "7160/7160 [==============================] - 1s 136us/step - loss: 0.4819 - accuracy: 0.7795 - val_loss: 0.4612 - val_accuracy: 0.7939\n",
      "Epoch 11/50\n",
      "7160/7160 [==============================] - 1s 132us/step - loss: 0.4681 - accuracy: 0.7880 - val_loss: 0.4425 - val_accuracy: 0.8011\n",
      "Epoch 12/50\n",
      "7160/7160 [==============================] - 1s 132us/step - loss: 0.4715 - accuracy: 0.7859 - val_loss: 0.4580 - val_accuracy: 0.7950\n",
      "Epoch 13/50\n",
      "7160/7160 [==============================] - 1s 129us/step - loss: 0.4692 - accuracy: 0.7863 - val_loss: 0.4374 - val_accuracy: 0.8061\n",
      "Epoch 14/50\n",
      "7160/7160 [==============================] - 1s 129us/step - loss: 0.4543 - accuracy: 0.7927 - val_loss: 0.4580 - val_accuracy: 0.7994\n",
      "Epoch 15/50\n",
      "7160/7160 [==============================] - 1s 133us/step - loss: 0.4553 - accuracy: 0.7955 - val_loss: 0.4710 - val_accuracy: 0.7838\n",
      "Epoch 16/50\n",
      "7160/7160 [==============================] - 1s 128us/step - loss: 0.4548 - accuracy: 0.7918 - val_loss: 0.4484 - val_accuracy: 0.8017\n",
      "Epoch 17/50\n",
      "7160/7160 [==============================] - 1s 131us/step - loss: 0.4475 - accuracy: 0.7965 - val_loss: 0.4322 - val_accuracy: 0.8151\n",
      "Epoch 18/50\n",
      "7160/7160 [==============================] - 1s 127us/step - loss: 0.4521 - accuracy: 0.7918 - val_loss: 0.4445 - val_accuracy: 0.8084\n",
      "Epoch 19/50\n",
      "7160/7160 [==============================] - 1s 130us/step - loss: 0.4444 - accuracy: 0.7925 - val_loss: 0.4290 - val_accuracy: 0.8218\n",
      "Epoch 20/50\n",
      "7160/7160 [==============================] - 1s 130us/step - loss: 0.4359 - accuracy: 0.8056 - val_loss: 0.4380 - val_accuracy: 0.8173\n",
      "Epoch 21/50\n",
      "7160/7160 [==============================] - 1s 128us/step - loss: 0.4359 - accuracy: 0.8022 - val_loss: 0.4271 - val_accuracy: 0.8218\n",
      "Epoch 22/50\n",
      "7160/7160 [==============================] - 1s 131us/step - loss: 0.4374 - accuracy: 0.8008 - val_loss: 0.4405 - val_accuracy: 0.8106\n",
      "Epoch 23/50\n",
      "7160/7160 [==============================] - 1s 130us/step - loss: 0.4307 - accuracy: 0.8041 - val_loss: 0.4300 - val_accuracy: 0.8173\n",
      "Epoch 24/50\n",
      "7160/7160 [==============================] - 1s 131us/step - loss: 0.4342 - accuracy: 0.8074 - val_loss: 0.4345 - val_accuracy: 0.8084\n",
      "Epoch 25/50\n",
      "7160/7160 [==============================] - 1s 128us/step - loss: 0.4268 - accuracy: 0.8140 - val_loss: 0.4279 - val_accuracy: 0.8168\n",
      "Epoch 26/50\n",
      "7160/7160 [==============================] - 1s 134us/step - loss: 0.4245 - accuracy: 0.8096 - val_loss: 0.4461 - val_accuracy: 0.8089\n",
      "Epoch 27/50\n",
      "7160/7160 [==============================] - 1s 129us/step - loss: 0.4240 - accuracy: 0.8116 - val_loss: 0.4262 - val_accuracy: 0.8235\n",
      "Epoch 28/50\n",
      "7160/7160 [==============================] - 1s 136us/step - loss: 0.4253 - accuracy: 0.8102 - val_loss: 0.4476 - val_accuracy: 0.8101\n",
      "Epoch 29/50\n",
      "7160/7160 [==============================] - 1s 142us/step - loss: 0.4177 - accuracy: 0.8102 - val_loss: 0.4532 - val_accuracy: 0.8039\n",
      "Epoch 30/50\n",
      "7160/7160 [==============================] - 1s 129us/step - loss: 0.4252 - accuracy: 0.8087 - val_loss: 0.4453 - val_accuracy: 0.8073\n",
      "Epoch 31/50\n",
      "7160/7160 [==============================] - 1s 129us/step - loss: 0.4218 - accuracy: 0.8126 - val_loss: 0.4238 - val_accuracy: 0.8235\n",
      "Epoch 32/50\n",
      "7160/7160 [==============================] - 1s 132us/step - loss: 0.4209 - accuracy: 0.8103 - val_loss: 0.4256 - val_accuracy: 0.8168\n",
      "Epoch 33/50\n",
      "7160/7160 [==============================] - 1s 129us/step - loss: 0.4067 - accuracy: 0.8169 - val_loss: 0.4460 - val_accuracy: 0.8095\n",
      "Epoch 34/50\n",
      "7160/7160 [==============================] - 1s 128us/step - loss: 0.4161 - accuracy: 0.8172 - val_loss: 0.4305 - val_accuracy: 0.8190\n",
      "Epoch 35/50\n",
      "7160/7160 [==============================] - 1s 137us/step - loss: 0.4102 - accuracy: 0.8208 - val_loss: 0.4187 - val_accuracy: 0.8212\n",
      "Epoch 36/50\n",
      "7160/7160 [==============================] - 1s 135us/step - loss: 0.4109 - accuracy: 0.8180 - val_loss: 0.4363 - val_accuracy: 0.8128\n",
      "Epoch 37/50\n",
      "7160/7160 [==============================] - 1s 132us/step - loss: 0.4103 - accuracy: 0.8203 - val_loss: 0.4221 - val_accuracy: 0.8212\n",
      "Epoch 38/50\n",
      "7160/7160 [==============================] - 1s 133us/step - loss: 0.4039 - accuracy: 0.8184 - val_loss: 0.4218 - val_accuracy: 0.8218\n",
      "Epoch 39/50\n",
      "7160/7160 [==============================] - 1s 138us/step - loss: 0.4074 - accuracy: 0.8237 - val_loss: 0.4370 - val_accuracy: 0.8128\n",
      "Epoch 40/50\n",
      "7160/7160 [==============================] - 1s 137us/step - loss: 0.4098 - accuracy: 0.8152 - val_loss: 0.4169 - val_accuracy: 0.8291\n",
      "Epoch 41/50\n",
      "7160/7160 [==============================] - 1s 138us/step - loss: 0.4111 - accuracy: 0.8113 - val_loss: 0.4171 - val_accuracy: 0.8268\n",
      "Epoch 42/50\n",
      "7160/7160 [==============================] - 1s 139us/step - loss: 0.3995 - accuracy: 0.8239 - val_loss: 0.4203 - val_accuracy: 0.8207\n",
      "Epoch 43/50\n",
      "7160/7160 [==============================] - 1s 138us/step - loss: 0.3955 - accuracy: 0.8244 - val_loss: 0.4177 - val_accuracy: 0.8235\n",
      "Epoch 44/50\n",
      "7160/7160 [==============================] - 1s 135us/step - loss: 0.3968 - accuracy: 0.8221 - val_loss: 0.4180 - val_accuracy: 0.8251\n",
      "Epoch 45/50\n",
      "7160/7160 [==============================] - 1s 139us/step - loss: 0.4014 - accuracy: 0.8190 - val_loss: 0.4178 - val_accuracy: 0.8285\n",
      "Epoch 46/50\n",
      "7160/7160 [==============================] - 1s 153us/step - loss: 0.3970 - accuracy: 0.8270 - val_loss: 0.4151 - val_accuracy: 0.8268\n",
      "Epoch 47/50\n",
      "7160/7160 [==============================] - 1s 155us/step - loss: 0.3951 - accuracy: 0.8225 - val_loss: 0.4199 - val_accuracy: 0.8257\n",
      "Epoch 48/50\n",
      "7160/7160 [==============================] - 1s 149us/step - loss: 0.3913 - accuracy: 0.8243 - val_loss: 0.4179 - val_accuracy: 0.8218\n",
      "Epoch 49/50\n",
      "7160/7160 [==============================] - 1s 152us/step - loss: 0.3872 - accuracy: 0.8338 - val_loss: 0.4235 - val_accuracy: 0.8190\n",
      "Epoch 50/50\n",
      "7160/7160 [==============================] - 1s 150us/step - loss: 0.3874 - accuracy: 0.8265 - val_loss: 0.4196 - val_accuracy: 0.8196\n"
     ]
    }
   ],
   "source": [
    "model.compile(optimizer='sgd',\n",
    "              loss='categorical_crossentropy',\n",
    "              metrics=['accuracy'])\n",
    "history = model.fit(x_train, y_train, \n",
    "                  epochs=50, \n",
    "                  batch_size=32, \n",
    "                  verbose=1, \n",
    "                  validation_data=(x_validate, y_validate))  "
   ]
  },
  {
   "cell_type": "code",
   "execution_count": 19,
   "metadata": {},
   "outputs": [
    {
     "data": {
      "image/png": "[encoded data removed]",
      "text/plain": [
       "<Figure size 432x288 with 1 Axes>"
      ]
     },
     "metadata": {
      "needs_background": "light"
     },
     "output_type": "display_data"
    }
   ],
   "source": [
    "plt.plot(history.history['accuracy'])\n",
    "plt.plot(history.history['val_accuracy'])\n",
    "plt.title('model accuracy')\n",
    "plt.ylabel('accuracy')\n",
    "plt.xlabel('epoch')\n",
    "plt.legend(['train', 'test'], loc='upper left')\n",
    "plt.show()"
   ]
  },
  {
   "cell_type": "code",
   "execution_count": 20,
   "metadata": {},
   "outputs": [
    {
     "data": {
      "image/png": "[encoded data removed]",
      "text/plain": [
       "<Figure size 432x288 with 1 Axes>"
      ]
     },
     "metadata": {
      "needs_background": "light"
     },
     "output_type": "display_data"
    }
   ],
   "source": [
    "plt.plot(history.history['loss'])\n",
    "plt.plot(history.history['val_loss'])\n",
    "plt.title('model loss')\n",
    "plt.ylabel('loss')\n",
    "plt.xlabel('epoch')\n",
    "plt.legend(['train', 'test'], loc='upper left')\n",
    "plt.show()"
   ]
  },
  {
   "cell_type": "code",
   "execution_count": 21,
   "metadata": {},
   "outputs": [],
   "source": [
    "model.save('mutiple_layers_CNN_model.h5')"
   ]
  },
  {
   "cell_type": "code",
   "execution_count": null,
   "metadata": {},
   "outputs": [],
   "source": []
  }
 ],
 "metadata": {
  "kernelspec": {
   "display_name": "Python 3",
   "language": "python",
   "name": "python3"
  },
  "language_info": {
   "codemirror_mode": {
    "name": "ipython",
    "version": 3
   },
   "file_extension": ".py",
   "mimetype": "text/x-python",
   "name": "python",
   "nbconvert_exporter": "python",
   "pygments_lexer": "ipython3",
   "version": "3.7.3"
  }
 },
 "nbformat": 4,
 "nbformat_minor": 2
}
