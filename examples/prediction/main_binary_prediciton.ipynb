{
 "cells": [
  {
   "cell_type": "markdown",
   "metadata": {},
   "source": [
    "### Welcome to HyperBinding. We can help you to predict your peptide binding affinity towards MHC. Our method works for peptide with a length short than 12. Please follow below instruction to get your result.\n",
    "In this method: <br>\n",
    "very strong binder has kd<=50nM, <br>\n",
    "strong binder have 50nM<kd<=500nM, <br>\n",
    "medium binder have 500nM<kd<=1000nM,<br>\n",
    "weak binder have 1000nM<kd<=20000nM,<br>\n",
    "very weak binder have kd>20000nM"
   ]
  },
  {
   "cell_type": "code",
   "execution_count": 1,
   "metadata": {},
   "outputs": [
    {
     "name": "stdout",
     "output_type": "stream",
     "text": [
      "Please enter your protein sequence\n",
      "ACFRLSGK\n"
     ]
    }
   ],
   "source": [
    "print('Please enter your protein sequence')\n",
    "sequence = input()"
   ]
  },
  {
   "cell_type": "code",
   "execution_count": 2,
   "metadata": {},
   "outputs": [
    {
     "name": "stderr",
     "output_type": "stream",
     "text": [
      "Using TensorFlow backend.\n"
     ]
    },
    {
     "name": "stdout",
     "output_type": "stream",
     "text": [
      "your sequence is weak binder\n"
     ]
    }
   ],
   "source": [
    "from keras.models import load_model\n",
    "import sys\n",
    "sys.path.append(\"../..\")\n",
    "from hyperbinding import multiple_channel_matrix_generator\n",
    "from hyperbinding import single_peptide_convert\n",
    "\n",
    "model = load_model('../model_fitting/multi_class_CNN_model.h5')\n",
    "\n",
    "sequence = single_peptide_convert.peptide_converter(sequence)\n",
    "\n",
    "matrix = multiple_channel_matrix_generator.multiple_channel_generator(sequence)\n",
    "matrix = matrix.reshape((1,12,21,3))\n",
    "\n",
    "pre = model.predict(matrix)[0].argmax()\n",
    "\n",
    "if pre == 0:\n",
    "    print('your sequence is very strong binder')\n",
    "elif pre == 1:\n",
    "    print('your sequence is strong binder')\n",
    "elif pre == 2:\n",
    "    print('your sequence is medium binder')\n",
    "elif pre == 3:\n",
    "    print('your sequence is weak binder')\n",
    "else:\n",
    "    print('your sequence is very weak binder')"
   ]
  }
 ],
 "metadata": {
  "kernelspec": {
   "display_name": "Python 3",
   "language": "python",
   "name": "python3"
  },
  "language_info": {
   "codemirror_mode": {
    "name": "ipython",
    "version": 3
   },
   "file_extension": ".py",
   "mimetype": "text/x-python",
   "name": "python",
   "nbconvert_exporter": "python",
   "pygments_lexer": "ipython3",
   "version": "3.7.3"
  }
 },
 "nbformat": 4,
 "nbformat_minor": 2
}
