{
 "cells": [
  {
   "cell_type": "markdown",
   "metadata": {},
   "source": [
    "### Welcome to HyperBinding. We can help you slice your protein into fragments with desirable length and predicate their binding affinity to HLA-A-02. "
   ]
  },
  {
   "cell_type": "code",
   "execution_count": 1,
   "metadata": {},
   "outputs": [
    {
     "name": "stdout",
     "output_type": "stream",
     "text": [
      "Please enter your protein sequence\n",
      "MFVFLVLLPLVSSQCVNLTTRTQLPPAYTNSFTRGVYYPDKVFRSSVLHSTQDLFLPFFSNVTWFHAIHVSGTNGTKRFDNPVLPFNDGVYFASTEKSNIIRGWIFGTTLDSKTQSLLIVNNATNVVIKVCEFQFCNDPFLGVYYHKNNKSWMESEFRVYSSANNCTFEYVSQPFLMDLEGKQGNFKNLREFVFKNIDGYFKIYSKHTPINLVRDLPQGFSALEPLVDLPIGINITRFQTLLALHRSYLTPGDSSSGWTAGAAAYYVGYLQPRTFLLKYNENGTITDAVDCALDPLSETKCTLKSFTVEKGIYQTSNFRVQPTESIVRFPNITNLCPFGEVFNATRFASVYAWNRKRISNCVADYSVLYNSASFSTFKCYGVSPTKLNDLCFTNVYADSFVIRGDEVRQIAPGQTGKIADYNYKLPDDFTGCVIAWNSNNLDSKVGGNYNYLYRLFRKSNLKPFERDISTEIYQAGSTPCNGVEGFNCYFPLQSYGFQPTNGVGYQPYRVVVLSFELLHAPATVCGPKKSTNLVKNKCVNFNFNGLTGTGVLTESNKKFLPFQQFGRDIADTTDAVRDPQTLEILDITPCSFGGVSVITPGTNTSNQVAVLYQDVNCTEVPVAIHADQLTPTWRVYSTGSNVFQTRAGCLIGAEHVNNSYECDIPIGAGICASYQTQTNSPRRARSVASQSIIAYTMSLGAENSVAYSNNSIAIPTNFTISVTTEILPVSMTKTSVDCTMYICGDSTECSNLLLQYGSFCTQLNRALTGIAVEQDKNTQEVFAQVKQIYKTPPIKDFGGFNFSQILPDPSKPSKRSFIEDLLFNKVTLADAGFIKQYGDCLGDIAARDLICAQKFNGLTVLPPLLTDEMIAQYTSALLAGTITSGWTFGAGAALQIPFAMQMAYRFNGIGVTQNVLYENQKLIANQFNSAIGKIQDSLSSTASALGKLQDVVNQNAQALNTLVKQLSSNFGAISSVLNDILSRLDKVEAEVQIDRLITGRLQSLQTYVTQQLIRAAEIRASANLAATKMSECVLGQSKRVDFCGKGYHLMSFPQSAPHGVVFLHVTYVPAQEKNFTTAPAICHDGKAHFPREGVFVSNGTHWFVTQRNFYEPQIITTDNTFVSGNCDVVIGIVNNTVYDPLQPELDSFKEELDKYFKNHTSPDVDLGDISGINASVVNIQKEIDRLNEVAKNLNESLIDLQELGKYEQYIKWPWYIWLGFIAGLIAIVMVTIMLCCMTSCCSCLKGCCSCGSCCKFDEDDSEPVLKGVKLHYT\n"
     ]
    }
   ],
   "source": [
    "print('Please enter your protein sequence')\n",
    "sequence = input()"
   ]
  },
  {
   "cell_type": "code",
   "execution_count": 6,
   "metadata": {},
   "outputs": [
    {
     "name": "stdout",
     "output_type": "stream",
     "text": [
      "Please enter the length of your sliced fragments\n",
      "8\n"
     ]
    }
   ],
   "source": [
    "print('Please enter the length of your sliced fragments')\n",
    "length = int(input())"
   ]
  },
  {
   "cell_type": "code",
   "execution_count": 33,
   "metadata": {},
   "outputs": [
    {
     "name": "stdout",
     "output_type": "stream",
     "text": [
      "Please enter which class of binding you want to see:\n",
      "for very strong binder, kd<=30nM, please enter 0\n",
      "for strong binder, 50nM<kd<=500nM, please enter 1\n",
      "for medium binder, 500nM<kd<=10000nM, please enter 2\n",
      "for weak binder, 10000nM<kd<=20000nM, please enter 3\n",
      "for very weak binder, kd>20000nM, please enter 4\n",
      "0\n"
     ]
    }
   ],
   "source": [
    "print('Please enter which class of binding you want to see:')\n",
    "print('for very strong binder, kd<=30nM, please enter 0')\n",
    "print('for strong binder, 50nM<kd<=500nM, please enter 1')\n",
    "print('for medium binder, 500nM<kd<=10000nM, please enter 2')\n",
    "print('for weak binder, 10000nM<kd<=20000nM, please enter 3')\n",
    "print('for very weak binder, kd>20000nM, please enter 4')\n",
    "index = int(input())"
   ]
  },
  {
   "cell_type": "code",
   "execution_count": 15,
   "metadata": {},
   "outputs": [],
   "source": [
    "import matplotlib.pyplot as plt\n",
    "import numpy as np\n",
    "import peptideCutter\n",
    "import single_peptide_convert\n",
    "import multiple_channel_matrix_generator\n",
    "from keras.models import load_model"
   ]
  },
  {
   "cell_type": "code",
   "execution_count": 19,
   "metadata": {},
   "outputs": [],
   "source": [
    "model = load_model('multi_class_CNN_model.h5')"
   ]
  },
  {
   "cell_type": "code",
   "execution_count": 16,
   "metadata": {},
   "outputs": [],
   "source": [
    "cuts = peptideCutter.cutting(sequence,length)"
   ]
  },
  {
   "cell_type": "code",
   "execution_count": 17,
   "metadata": {},
   "outputs": [],
   "source": [
    "sequences = []\n",
    "for pp in cuts:\n",
    "    sequences.append(single_peptide_convert.peptide_converter(pp))"
   ]
  },
  {
   "cell_type": "code",
   "execution_count": 20,
   "metadata": {},
   "outputs": [],
   "source": [
    "predict = []\n",
    "for pp in sequences:\n",
    "    matrix = multiple_channel_matrix_generator.multiple_channel_generator(pp)\n",
    "    matrix = matrix.reshape((1,12,21,3))\n",
    "    pre = model.predict(matrix)[0].argmax()\n",
    "    predict.append(pre)"
   ]
  },
  {
   "cell_type": "code",
   "execution_count": 23,
   "metadata": {},
   "outputs": [],
   "source": [
    "label_list = np.zeros(5)\n",
    "for label in predict:\n",
    "    if label == 0:\n",
    "        label_list[0] += 1\n",
    "    elif label == 1:\n",
    "        label_list[1] += 1\n",
    "    elif label == 2:\n",
    "        label_list[2] += 1\n",
    "    elif label == 3:\n",
    "        label_list[3] += 1\n",
    "    else:\n",
    "        label_list[4] += 1"
   ]
  },
  {
   "cell_type": "code",
   "execution_count": 26,
   "metadata": {},
   "outputs": [],
   "source": [
    "labels = ['Very strong', 'Strong', 'Medium', 'Weak', 'Very weak']"
   ]
  },
  {
   "cell_type": "code",
   "execution_count": 34,
   "metadata": {},
   "outputs": [
    {
     "name": "stdout",
     "output_type": "stream",
     "text": [
      "Your protein sequence is:\n",
      "MFVFLVLLPLVSSQCVNLTTRTQLPPAYTNSFTRGVYYPDKVFRSSVLHSTQDLFLPFFSNVTWFHAIHVSGTNGTKRFDNPVLPFNDGVYFASTEKSNIIRGWIFGTTLDSKTQSLLIVNNATNVVIKVCEFQFCNDPFLGVYYHKNNKSWMESEFRVYSSANNCTFEYVSQPFLMDLEGKQGNFKNLREFVFKNIDGYFKIYSKHTPINLVRDLPQGFSALEPLVDLPIGINITRFQTLLALHRSYLTPGDSSSGWTAGAAAYYVGYLQPRTFLLKYNENGTITDAVDCALDPLSETKCTLKSFTVEKGIYQTSNFRVQPTESIVRFPNITNLCPFGEVFNATRFASVYAWNRKRISNCVADYSVLYNSASFSTFKCYGVSPTKLNDLCFTNVYADSFVIRGDEVRQIAPGQTGKIADYNYKLPDDFTGCVIAWNSNNLDSKVGGNYNYLYRLFRKSNLKPFERDISTEIYQAGSTPCNGVEGFNCYFPLQSYGFQPTNGVGYQPYRVVVLSFELLHAPATVCGPKKSTNLVKNKCVNFNFNGLTGTGVLTESNKKFLPFQQFGRDIADTTDAVRDPQTLEILDITPCSFGGVSVITPGTNTSNQVAVLYQDVNCTEVPVAIHADQLTPTWRVYSTGSNVFQTRAGCLIGAEHVNNSYECDIPIGAGICASYQTQTNSPRRARSVASQSIIAYTMSLGAENSVAYSNNSIAIPTNFTISVTTEILPVSMTKTSVDCTMYICGDSTECSNLLLQYGSFCTQLNRALTGIAVEQDKNTQEVFAQVKQIYKTPPIKDFGGFNFSQILPDPSKPSKRSFIEDLLFNKVTLADAGFIKQYGDCLGDIAARDLICAQKFNGLTVLPPLLTDEMIAQYTSALLAGTITSGWTFGAGAALQIPFAMQMAYRFNGIGVTQNVLYENQKLIANQFNSAIGKIQDSLSSTASALGKLQDVVNQNAQALNTLVKQLSSNFGAISSVLNDILSRLDKVEAEVQIDRLITGRLQSLQTYVTQQLIRAAEIRASANLAATKMSECVLGQSKRVDFCGKGYHLMSFPQSAPHGVVFLHVTYVPAQEKNFTTAPAICHDGKAHFPREGVFVSNGTHWFVTQRNFYEPQIITTDNTFVSGNCDVVIGIVNNTVYDPLQPELDSFKEELDKYFKNHTSPDVDLGDISGINASVVNIQKEIDRLNEVAKNLNESLIDLQELGKYEQYIKWPWYIWLGFIAGLIAIVMVTIMLCCMTSCCSCLKGCCSCGSCCKFDEDDSEPVLKGVKLHYT\n",
      "Your protein will be sliced into 8 -mers, total 1266\n",
      "Below are your result summary:\n"
     ]
    },
    {
     "data": {
      "image/png": "[encoded data removed]",
      "text/plain": [
       "<Figure size 432x288 with 1 Axes>"
      ]
     },
     "metadata": {
      "needs_background": "light"
     },
     "output_type": "display_data"
    },
    {
     "name": "stdout",
     "output_type": "stream",
     "text": [
      "The fragments of Very strong binders are shown below\n",
      "MFVFLVLL\n",
      "FLVLLPLV\n",
      "VLLPLVSS\n",
      "DLFLPFFS\n",
      "FLPFFSNV\n",
      "WFHAIHVS\n",
      "FQFCNDPF\n",
      "FLGVYYHK\n",
      "CTFEYVSQ\n",
      "FLMDLEGK\n",
      "NLREFVFK\n",
      "GFSALEPL\n",
      "TLLALHRS\n",
      "YLTPGDSS\n",
      "YLQPRTFL\n",
      "FLLKYNEN\n",
      "ALDPLSET\n",
      "RVQPTESI\n",
      "NLCPFGEV\n",
      "YSVLYNSA\n",
      "VLYNSASF\n",
      "KLNDLCFT\n",
      "RQIAPGQT\n",
      "ELLHAPAT\n",
      "ILDITPCS\n",
      "CSFGGVSV\n",
      "VLYQDVNC\n",
      "CLIGAEHV\n",
      "YTMSLGAE\n",
      "MSLGAENS\n",
      "LLQYGSFC\n",
      "FSQILPDP\n",
      "LLFNKVTL\n",
      "TLADAGFI\n",
      "GLTVLPPL\n",
      "YTSALLAG\n",
      "MQMAYRFN\n",
      "KLQDVVNQ\n",
      "RLDKVEAE\n",
      "SLQTYVTQ\n",
      "NLAATKMS\n",
      "KMSECVLG\n",
      "HLMSFPQS\n",
      "FLHVTYVP\n",
      "YVPAQEKN\n",
      "YIKWPWYI\n",
      "WLGFIAGL\n",
      "FIAGLIAI\n",
      "GLIAIVMV\n",
      "IMLCCMTS\n",
      "CMTSCCSC\n"
     ]
    }
   ],
   "source": [
    "print('Your protein sequence is:')\n",
    "print(sequence)\n",
    "print('Your protein will be sliced into',length,'-mers, total', len(cuts))\n",
    "print('Below are your result summary:')\n",
    "\n",
    "\n",
    "plt.bar(labels,label_list)\n",
    "plt.title('Distribution of different binder')\n",
    "plt.show()\n",
    "\n",
    "print('The fragments of',labels[index],'binders are shown below')\n",
    "for i in range(len(cuts)):\n",
    "    if predict[i] == index:\n",
    "        print(cuts[i])\n",
    "    else:\n",
    "        continue"
   ]
  }
 ],
 "metadata": {
  "kernelspec": {
   "display_name": "Python 3",
   "language": "python",
   "name": "python3"
  },
  "language_info": {
   "codemirror_mode": {
    "name": "ipython",
    "version": 3
   },
   "file_extension": ".py",
   "mimetype": "text/x-python",
   "name": "python",
   "nbconvert_exporter": "python",
   "pygments_lexer": "ipython3",
   "version": "3.7.3"
  }
 },
 "nbformat": 4,
 "nbformat_minor": 2
}
