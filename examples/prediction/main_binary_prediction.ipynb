{
 "cells": [
  {
   "cell_type": "markdown",
   "metadata": {},
   "source": [
    "### Welcome to HyperBinding. We can help you to predict your peptide binding affinity towards MHC. Our method works for peptide with a length short than 12. Please follow below instruction to get your result.\n",
    "In this method, strong binder has kd<= 500nM and weak binder have kd>500nM"
   ]
  },
  {
   "cell_type": "code",
   "execution_count": 1,
   "metadata": {},
   "outputs": [
    {
     "name": "stdout",
     "output_type": "stream",
     "text": [
      "Please enter your protein sequence\n",
      "ACFRLSGK\n"
     ]
    }
   ],
   "source": [
    "print('Please enter your protein sequence')\n",
    "sequence = input()"
   ]
  },
  {
   "cell_type": "code",
   "execution_count": 2,
   "metadata": {},
   "outputs": [
    {
     "name": "stderr",
     "output_type": "stream",
     "text": [
      "Using TensorFlow backend.\n"
     ]
    },
    {
     "name": "stdout",
     "output_type": "stream",
     "text": [
      "your sequence does not have strong binding affinity to MHC\n"
     ]
    }
   ],
   "source": [
    "from keras.models import load_model\n",
    "import sys\n",
    "sys.path.append(\"../..\")\n",
    "from hyperbinding import multiple_channel_matrix_generator\n",
    "from hyperbinding import single_peptide_convert\n",
    "\n",
    "model = load_model('../model_fitting/mutiple_layers_CNN_model.h5')\n",
    "\n",
    "sequence = single_peptide_convert.peptide_converter(sequence)\n",
    "\n",
    "matrix = multiple_channel_matrix_generator.multiple_channel_generator(sequence)\n",
    "matrix = matrix.reshape((1,12,21,3))\n",
    "\n",
    "pre = model.predict(matrix)[0].argmax()\n",
    "\n",
    "if pre == 0:\n",
    "    print('your sequence has strong binding affinity to MHC')\n",
    "else:\n",
    "    print('your sequence does not have strong binding affinity to MHC')"
   ]
  }
 ],
 "metadata": {
  "kernelspec": {
   "display_name": "Python 3",
   "language": "python",
   "name": "python3"
  },
  "language_info": {
   "codemirror_mode": {
    "name": "ipython",
    "version": 3
   },
   "file_extension": ".py",
   "mimetype": "text/x-python",
   "name": "python",
   "nbconvert_exporter": "python",
   "pygments_lexer": "ipython3",
   "version": "3.7.3"
  }
 },
 "nbformat": 4,
 "nbformat_minor": 2
}
