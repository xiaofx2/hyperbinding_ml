{
 "cells": [
  {
   "cell_type": "code",
   "execution_count": 15,
   "metadata": {},
   "outputs": [],
   "source": [
    "import pandas as pd\n",
    "import numpy as np\n",
    "import matplotlib.pyplot as plt\n",
    "import multiple_channel_matrix_generator"
   ]
  },
  {
   "cell_type": "code",
   "execution_count": 16,
   "metadata": {},
   "outputs": [
    {
     "name": "stderr",
     "output_type": "stream",
     "text": [
      "Using TensorFlow backend.\n"
     ]
    }
   ],
   "source": [
    "import keras\n",
    "from keras.utils import to_categorical"
   ]
  },
  {
   "cell_type": "code",
   "execution_count": 17,
   "metadata": {},
   "outputs": [],
   "source": [
    "df = pd.read_csv('/mnt/c/Users/majin/DIRECT/final_project/Labeled-Filled-HLA-A_0201.csv')"
   ]
  },
  {
   "cell_type": "code",
   "execution_count": 18,
   "metadata": {},
   "outputs": [],
   "source": [
    "df_dataset = df[['sequence','label']]"
   ]
  },
  {
   "cell_type": "code",
   "execution_count": 19,
   "metadata": {},
   "outputs": [
    {
     "data": {
      "text/html": [
       "<div>\n",
       "<style scoped>\n",
       "    .dataframe tbody tr th:only-of-type {\n",
       "        vertical-align: middle;\n",
       "    }\n",
       "\n",
       "    .dataframe tbody tr th {\n",
       "        vertical-align: top;\n",
       "    }\n",
       "\n",
       "    .dataframe thead th {\n",
       "        text-align: right;\n",
       "    }\n",
       "</style>\n",
       "<table border=\"1\" class=\"dataframe\">\n",
       "  <thead>\n",
       "    <tr style=\"text-align: right;\">\n",
       "      <th></th>\n",
       "      <th>sequence</th>\n",
       "      <th>label</th>\n",
       "    </tr>\n",
       "  </thead>\n",
       "  <tbody>\n",
       "    <tr>\n",
       "      <th>0</th>\n",
       "      <td>ILGFXXXXVFTL</td>\n",
       "      <td>P</td>\n",
       "    </tr>\n",
       "    <tr>\n",
       "      <th>1</th>\n",
       "      <td>FLGRXXXXIWPS</td>\n",
       "      <td>P</td>\n",
       "    </tr>\n",
       "    <tr>\n",
       "      <th>2</th>\n",
       "      <td>FLGKXXXXIWPS</td>\n",
       "      <td>P</td>\n",
       "    </tr>\n",
       "    <tr>\n",
       "      <th>3</th>\n",
       "      <td>FLGKXXXXIWSS</td>\n",
       "      <td>P</td>\n",
       "    </tr>\n",
       "    <tr>\n",
       "      <th>4</th>\n",
       "      <td>GLAVXXXXAMEV</td>\n",
       "      <td>P</td>\n",
       "    </tr>\n",
       "  </tbody>\n",
       "</table>\n",
       "</div>"
      ],
      "text/plain": [
       "       sequence label\n",
       "0  ILGFXXXXVFTL     P\n",
       "1  FLGRXXXXIWPS     P\n",
       "2  FLGKXXXXIWPS     P\n",
       "3  FLGKXXXXIWSS     P\n",
       "4  GLAVXXXXAMEV     P"
      ]
     },
     "execution_count": 19,
     "metadata": {},
     "output_type": "execute_result"
    }
   ],
   "source": [
    "df_dataset.head()"
   ]
  },
  {
   "cell_type": "code",
   "execution_count": 20,
   "metadata": {},
   "outputs": [
    {
     "data": {
      "text/plain": [
       "(12120, 2)"
      ]
     },
     "execution_count": 20,
     "metadata": {},
     "output_type": "execute_result"
    }
   ],
   "source": [
    "df_dataset.shape"
   ]
  },
  {
   "cell_type": "code",
   "execution_count": 21,
   "metadata": {},
   "outputs": [],
   "source": [
    "y_data = []\n",
    "for label in df_dataset['label']:\n",
    "    if label == 'P':\n",
    "        y_data.append([0])\n",
    "    elif label == 'N':\n",
    "        y_data.append([1])\n",
    "    else:\n",
    "        continue\n",
    "y_data = np.array(y_data)"
   ]
  },
  {
   "cell_type": "code",
   "execution_count": 22,
   "metadata": {},
   "outputs": [],
   "source": [
    "y_data = to_categorical(y_data)"
   ]
  },
  {
   "cell_type": "code",
   "execution_count": 23,
   "metadata": {},
   "outputs": [],
   "source": [
    "x_data = []\n",
    "for sequence in df_dataset['sequence']:\n",
    "    x_data.append(multiple_channel_matrix_generator.multiple_channel_generator(sequence))\n",
    "x_data = np.array(x_data, dtype = 'float32')"
   ]
  },
  {
   "cell_type": "code",
   "execution_count": 26,
   "metadata": {},
   "outputs": [],
   "source": [
    "x_data = x_data.reshape((x_data.shape[0],21,12,3))"
   ]
  },
  {
   "cell_type": "code",
   "execution_count": 28,
   "metadata": {},
   "outputs": [],
   "source": [
    "from sklearn.model_selection import train_test_split\n",
    "x_train,x_validate,y_train,y_validate = train_test_split(x_data,y_data,test_size = 0.2) ##tunabel "
   ]
  },
  {
   "cell_type": "code",
   "execution_count": 29,
   "metadata": {},
   "outputs": [],
   "source": [
    "from keras import layers\n",
    "from keras import models"
   ]
  },
  {
   "cell_type": "code",
   "execution_count": 30,
   "metadata": {},
   "outputs": [],
   "source": [
    "model=models.Sequential()\n",
    "model.add(layers.Conv2D(32, (2, 2), activation='relu', input_shape=(21,12,3))) ##tunabel \n",
    "model.add(layers.MaxPooling2D((2, 2))) ##tunabel \n",
    "model.add(layers.Conv2D(64, (2, 2), activation='relu')) ##tunabel \n",
    "model.add(layers.MaxPooling2D((2, 2))) ##tunabel \n",
    "model.add(layers.Flatten()) ##tunabel \n",
    "model.add(layers.Dense(128, activation='relu')) ##tunabel \n",
    "model.add(layers.Dense(128, activation='relu')) ##tunabel \n",
    "model.add(layers.Dense(128, activation='relu')) ##tunabel \n",
    "model.add(layers.Dropout(0.25, seed=21)) ##tunabel \n",
    "model.add(layers.Dense(2, activation='softmax')) ##tunabel \n",
    "sgd = keras.optimizers.SGD(lr=0.001, decay=1e-6, momentum=0.5, nesterov=True) ##tunabel "
   ]
  },
  {
   "cell_type": "code",
   "execution_count": 31,
   "metadata": {},
   "outputs": [
    {
     "name": "stdout",
     "output_type": "stream",
     "text": [
      "Train on 9696 samples, validate on 2424 samples\n",
      "Epoch 1/50\n",
      "9696/9696 [==============================] - 1s 143us/step - loss: 0.6631 - accuracy: 0.6658 - val_loss: 0.5362 - val_accuracy: 0.7215\n",
      "Epoch 2/50\n",
      "9696/9696 [==============================] - 1s 112us/step - loss: 0.5007 - accuracy: 0.7505 - val_loss: 0.5102 - val_accuracy: 0.7422\n",
      "Epoch 3/50\n",
      "9696/9696 [==============================] - 1s 109us/step - loss: 0.4608 - accuracy: 0.7746 - val_loss: 0.4609 - val_accuracy: 0.7772\n",
      "Epoch 4/50\n",
      "9696/9696 [==============================] - 1s 106us/step - loss: 0.4258 - accuracy: 0.7964 - val_loss: 0.4593 - val_accuracy: 0.7785\n",
      "Epoch 5/50\n",
      "9696/9696 [==============================] - 1s 104us/step - loss: 0.4087 - accuracy: 0.8072 - val_loss: 0.4765 - val_accuracy: 0.7809\n",
      "Epoch 6/50\n",
      "9696/9696 [==============================] - 1s 107us/step - loss: 0.3897 - accuracy: 0.8211 - val_loss: 0.4707 - val_accuracy: 0.7884\n",
      "Epoch 7/50\n",
      "9696/9696 [==============================] - 1s 105us/step - loss: 0.3743 - accuracy: 0.8302 - val_loss: 0.4542 - val_accuracy: 0.7826\n",
      "Epoch 8/50\n",
      "9696/9696 [==============================] - 1s 102us/step - loss: 0.3585 - accuracy: 0.8385 - val_loss: 0.4619 - val_accuracy: 0.7776\n",
      "Epoch 9/50\n",
      "9696/9696 [==============================] - 1s 106us/step - loss: 0.3464 - accuracy: 0.8454 - val_loss: 0.4699 - val_accuracy: 0.7999\n",
      "Epoch 10/50\n",
      "9696/9696 [==============================] - 1s 105us/step - loss: 0.3356 - accuracy: 0.8493 - val_loss: 0.4512 - val_accuracy: 0.8049\n",
      "Epoch 11/50\n",
      "9696/9696 [==============================] - 1s 103us/step - loss: 0.3230 - accuracy: 0.8595 - val_loss: 0.4477 - val_accuracy: 0.7913\n",
      "Epoch 12/50\n",
      "9696/9696 [==============================] - 1s 103us/step - loss: 0.3123 - accuracy: 0.8646 - val_loss: 0.4570 - val_accuracy: 0.7999\n",
      "Epoch 13/50\n",
      "9696/9696 [==============================] - 1s 108us/step - loss: 0.3017 - accuracy: 0.8685 - val_loss: 0.4718 - val_accuracy: 0.7946\n",
      "Epoch 14/50\n",
      "9696/9696 [==============================] - 1s 103us/step - loss: 0.2829 - accuracy: 0.8784 - val_loss: 0.4727 - val_accuracy: 0.7917\n",
      "Epoch 15/50\n",
      "9696/9696 [==============================] - 1s 104us/step - loss: 0.2749 - accuracy: 0.8781 - val_loss: 0.4941 - val_accuracy: 0.7921\n",
      "Epoch 16/50\n",
      "9696/9696 [==============================] - 1s 104us/step - loss: 0.2704 - accuracy: 0.8839 - val_loss: 0.4967 - val_accuracy: 0.7958\n",
      "Epoch 17/50\n",
      "9696/9696 [==============================] - 1s 108us/step - loss: 0.2574 - accuracy: 0.8938 - val_loss: 0.5389 - val_accuracy: 0.7842\n",
      "Epoch 18/50\n",
      "9696/9696 [==============================] - 1s 102us/step - loss: 0.2435 - accuracy: 0.8980 - val_loss: 0.5240 - val_accuracy: 0.7867\n",
      "Epoch 19/50\n",
      "9696/9696 [==============================] - 1s 105us/step - loss: 0.2336 - accuracy: 0.9006 - val_loss: 0.5305 - val_accuracy: 0.7913\n",
      "Epoch 20/50\n",
      "9696/9696 [==============================] - 1s 103us/step - loss: 0.2196 - accuracy: 0.9109 - val_loss: 0.5216 - val_accuracy: 0.7797\n",
      "Epoch 21/50\n",
      "9696/9696 [==============================] - 1s 104us/step - loss: 0.2097 - accuracy: 0.9111 - val_loss: 0.5794 - val_accuracy: 0.7830\n",
      "Epoch 22/50\n",
      "9696/9696 [==============================] - 1s 109us/step - loss: 0.1984 - accuracy: 0.9169 - val_loss: 0.5653 - val_accuracy: 0.7884\n",
      "Epoch 23/50\n",
      "9696/9696 [==============================] - 1s 106us/step - loss: 0.1956 - accuracy: 0.9197 - val_loss: 0.6595 - val_accuracy: 0.7904\n",
      "Epoch 24/50\n",
      "9696/9696 [==============================] - 1s 103us/step - loss: 0.1706 - accuracy: 0.9311 - val_loss: 0.7064 - val_accuracy: 0.7690\n",
      "Epoch 25/50\n",
      "9696/9696 [==============================] - 1s 105us/step - loss: 0.1664 - accuracy: 0.9328 - val_loss: 0.7233 - val_accuracy: 0.7851\n",
      "Epoch 26/50\n",
      "9696/9696 [==============================] - 1s 105us/step - loss: 0.1643 - accuracy: 0.9330 - val_loss: 0.6726 - val_accuracy: 0.7830\n",
      "Epoch 27/50\n",
      "9696/9696 [==============================] - 1s 104us/step - loss: 0.1591 - accuracy: 0.9341 - val_loss: 0.7377 - val_accuracy: 0.7764\n",
      "Epoch 28/50\n",
      "9696/9696 [==============================] - 1s 105us/step - loss: 0.1366 - accuracy: 0.9456 - val_loss: 0.7813 - val_accuracy: 0.7682\n",
      "Epoch 29/50\n",
      "9696/9696 [==============================] - 1s 104us/step - loss: 0.1457 - accuracy: 0.9402 - val_loss: 0.7428 - val_accuracy: 0.7809\n",
      "Epoch 30/50\n",
      "9696/9696 [==============================] - 1s 106us/step - loss: 0.1381 - accuracy: 0.9451 - val_loss: 0.7245 - val_accuracy: 0.7801\n",
      "Epoch 31/50\n",
      "9696/9696 [==============================] - 1s 105us/step - loss: 0.1197 - accuracy: 0.9528 - val_loss: 0.7847 - val_accuracy: 0.7896\n",
      "Epoch 32/50\n",
      "9696/9696 [==============================] - 1s 101us/step - loss: 0.1201 - accuracy: 0.9514 - val_loss: 0.7773 - val_accuracy: 0.7809\n",
      "Epoch 33/50\n",
      "9696/9696 [==============================] - 1s 103us/step - loss: 0.0986 - accuracy: 0.9640 - val_loss: 0.9407 - val_accuracy: 0.7847\n",
      "Epoch 34/50\n",
      "9696/9696 [==============================] - 1s 107us/step - loss: 0.1182 - accuracy: 0.9563 - val_loss: 0.8673 - val_accuracy: 0.7830\n",
      "Epoch 35/50\n",
      "9696/9696 [==============================] - 1s 104us/step - loss: 0.0923 - accuracy: 0.9646 - val_loss: 0.9226 - val_accuracy: 0.7842\n",
      "Epoch 36/50\n",
      "9696/9696 [==============================] - 1s 104us/step - loss: 0.0765 - accuracy: 0.9714 - val_loss: 1.2041 - val_accuracy: 0.7397\n",
      "Epoch 37/50\n",
      "9696/9696 [==============================] - 1s 106us/step - loss: 0.0986 - accuracy: 0.9607 - val_loss: 0.9692 - val_accuracy: 0.7867\n",
      "Epoch 38/50\n",
      "9696/9696 [==============================] - 1s 105us/step - loss: 0.0886 - accuracy: 0.9665 - val_loss: 1.0370 - val_accuracy: 0.7855\n",
      "Epoch 39/50\n",
      "9696/9696 [==============================] - 1s 112us/step - loss: 0.0768 - accuracy: 0.9725 - val_loss: 1.0892 - val_accuracy: 0.7785\n",
      "Epoch 40/50\n",
      "9696/9696 [==============================] - 1s 104us/step - loss: 0.0783 - accuracy: 0.9731 - val_loss: 1.0890 - val_accuracy: 0.7863\n",
      "Epoch 41/50\n",
      "9696/9696 [==============================] - 1s 106us/step - loss: 0.0765 - accuracy: 0.9707 - val_loss: 1.2139 - val_accuracy: 0.7781\n",
      "Epoch 42/50\n",
      "9696/9696 [==============================] - 1s 104us/step - loss: 0.0921 - accuracy: 0.9654 - val_loss: 1.0219 - val_accuracy: 0.7756\n",
      "Epoch 43/50\n",
      "9696/9696 [==============================] - 1s 106us/step - loss: 0.0632 - accuracy: 0.9776 - val_loss: 1.1237 - val_accuracy: 0.7847\n",
      "Epoch 44/50\n",
      "9696/9696 [==============================] - 1s 105us/step - loss: 0.0528 - accuracy: 0.9788 - val_loss: 1.5237 - val_accuracy: 0.7686\n",
      "Epoch 45/50\n",
      "9696/9696 [==============================] - 1s 118us/step - loss: 0.0585 - accuracy: 0.9777 - val_loss: 1.1729 - val_accuracy: 0.7809\n",
      "Epoch 46/50\n",
      "9696/9696 [==============================] - 1s 115us/step - loss: 0.0534 - accuracy: 0.9801 - val_loss: 1.1825 - val_accuracy: 0.7781\n",
      "Epoch 47/50\n",
      "9696/9696 [==============================] - 1s 112us/step - loss: 0.0446 - accuracy: 0.9828 - val_loss: 1.2644 - val_accuracy: 0.7785\n",
      "Epoch 48/50\n",
      "9696/9696 [==============================] - 1s 112us/step - loss: 0.0578 - accuracy: 0.9796 - val_loss: 1.2400 - val_accuracy: 0.7900\n",
      "Epoch 49/50\n",
      "9696/9696 [==============================] - 1s 108us/step - loss: 0.0539 - accuracy: 0.9829 - val_loss: 1.2084 - val_accuracy: 0.7929\n",
      "Epoch 50/50\n",
      "9696/9696 [==============================] - 1s 109us/step - loss: 0.0539 - accuracy: 0.9793 - val_loss: 1.1919 - val_accuracy: 0.7838\n"
     ]
    },
    {
     "data": {
      "text/plain": [
       "<keras.callbacks.callbacks.History at 0x7fc72c6b8f60>"
      ]
     },
     "execution_count": 31,
     "metadata": {},
     "output_type": "execute_result"
    }
   ],
   "source": [
    "model.compile(optimizer='sgd',\n",
    "              loss='categorical_crossentropy',\n",
    "              metrics=['accuracy'])\n",
    "model.fit(x_train, y_train, \n",
    "          epochs=50, \n",
    "          batch_size=32, \n",
    "          verbose=1, \n",
    "          validation_data=(x_validate, y_validate)) ##tunabel "
   ]
  },
  {
   "cell_type": "code",
   "execution_count": null,
   "metadata": {},
   "outputs": [],
   "source": []
  }
 ],
 "metadata": {
  "kernelspec": {
   "display_name": "Python 3",
   "language": "python",
   "name": "python3"
  },
  "language_info": {
   "codemirror_mode": {
    "name": "ipython",
    "version": 3
   },
   "file_extension": ".py",
   "mimetype": "text/x-python",
   "name": "python",
   "nbconvert_exporter": "python",
   "pygments_lexer": "ipython3",
   "version": "3.7.3"
  }
 },
 "nbformat": 4,
 "nbformat_minor": 2
}
