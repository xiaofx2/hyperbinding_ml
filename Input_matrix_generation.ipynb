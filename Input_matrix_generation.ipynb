{
 "cells": [
  {
   "cell_type": "code",
   "execution_count": 3,
   "metadata": {
    "ExecuteTime": {
     "end_time": "2020-02-22T01:41:26.396928Z",
     "start_time": "2020-02-22T01:41:26.392937Z"
    }
   },
   "outputs": [],
   "source": [
    "def create_input_matrix(data):\n",
    "    '''\n",
    "    Feature Order: 'sequence','hydropathy','volume','polarity','length'\n",
    "    '''\n",
    "    import pandas as pd\n",
    "    import numpy as np\n",
    "    input_matrix = []\n",
    "    for i in data.iloc[:,0]:\n",
    "        input_matrix.append(sequence_to_matrix(data['sequence'][i]))\n",
    "    return input_matrix"
   ]
  },
  {
   "cell_type": "code",
   "execution_count": 2,
   "metadata": {
    "ExecuteTime": {
     "end_time": "2020-02-22T01:40:56.215798Z",
     "start_time": "2020-02-22T01:40:56.209814Z"
    }
   },
   "outputs": [],
   "source": [
    "def sequence_to_matrix(sequence):\n",
    "    import pandas as pd\n",
    "    import numpy as np\n",
    "    matrix = np.zeros((5,12))\n",
    "    for i in range(len(sequence)):\n",
    "        matrix[0,i] = sequence_to_num(sequence[i])\n",
    "        matrix[1,i] = hydropathy(sequence[i])\n",
    "        matrix[2,i] = volume(sequence[i])\n",
    "        matrix[3,i] = polarity(sequence[i])\n",
    "        matrix[4,i] = length(sequence)\n",
    "    return matrix"
   ]
  },
  {
   "cell_type": "code",
   "execution_count": null,
   "metadata": {
    "ExecuteTime": {
     "end_time": "2020-02-22T00:56:45.990147Z",
     "start_time": "2020-02-22T00:56:45.985199Z"
    }
   },
   "outputs": [],
   "source": [
    "np.array(dataframe['sequence'][1])"
   ]
  },
  {
   "cell_type": "code",
   "execution_count": null,
   "metadata": {
    "ExecuteTime": {
     "end_time": "2020-02-22T00:58:58.459653Z",
     "start_time": "2020-02-22T00:58:58.454664Z"
    }
   },
   "outputs": [],
   "source": [
    "sequence_to_matrix(dataframe['sequence'][1])"
   ]
  },
  {
   "cell_type": "code",
   "execution_count": 4,
   "metadata": {
    "ExecuteTime": {
     "end_time": "2020-02-22T01:41:28.592497Z",
     "start_time": "2020-02-22T01:41:28.586513Z"
    }
   },
   "outputs": [],
   "source": [
    "def hydropathy(letter):\n",
    "    hydro = {\n",
    "        'I': 4.5,\n",
    "        'V': 4.2,\n",
    "        'L': 3.8,\n",
    "        'F': 2.8,\n",
    "        'C': 2.5,\n",
    "        'M': 1.9,\n",
    "        'A': 1.8,\n",
    "        'G': -0.4,\n",
    "        'T': -0.7,\n",
    "        'S': -0.8,\n",
    "        'W': -0.9,\n",
    "        'Y': -1.3,\n",
    "        'P': -1.6,\n",
    "        'H': -3.2,\n",
    "        'E': -3.5,\n",
    "        'Q': -3.5,\n",
    "        'D': -3.5,\n",
    "        'N': -3.5,\n",
    "        'K': -3.9,\n",
    "        'R': -4.5,\n",
    "        'X': 0\n",
    "    }\n",
    "    return hydro.get(letter,\"Invalid sequence\")"
   ]
  },
  {
   "cell_type": "code",
   "execution_count": 5,
   "metadata": {
    "ExecuteTime": {
     "end_time": "2020-02-22T01:41:29.135081Z",
     "start_time": "2020-02-22T01:41:29.130061Z"
    }
   },
   "outputs": [],
   "source": [
    "def sequence_to_num(letter):\n",
    "    num = {\n",
    "        'I': 8,\n",
    "        'V': 18,\n",
    "        'L': 10,\n",
    "        'F': 5,\n",
    "        'C': 2,\n",
    "        'M': 11,\n",
    "        'A': 1,\n",
    "        'G': 6,\n",
    "        'T': 17,\n",
    "        'S': 16,\n",
    "        'W': 19,\n",
    "        'Y': 20,\n",
    "        'P': 13,\n",
    "        'H': 7,\n",
    "        'E': 4,\n",
    "        'Q': 14,\n",
    "        'D': 3,\n",
    "        'N': 12,\n",
    "        'K': 9,\n",
    "        'R': 15,\n",
    "        'X': 0\n",
    "    }\n",
    "    return num.get(letter,\"Invalid sequence\")"
   ]
  },
  {
   "cell_type": "code",
   "execution_count": 6,
   "metadata": {
    "ExecuteTime": {
     "end_time": "2020-02-22T01:41:29.789075Z",
     "start_time": "2020-02-22T01:41:29.783090Z"
    }
   },
   "outputs": [],
   "source": [
    "def volume(letter):\n",
    "    vol = {\n",
    "        'I': 166.7,\n",
    "        'V': 140.0,\n",
    "        'L': 166.7,\n",
    "        'F': 189.9,\n",
    "        'C': 108.5,\n",
    "        'M': 162.9,\n",
    "        'A': 88.6,\n",
    "        'G': 60.1,\n",
    "        'T': 116.1,\n",
    "        'S': 89.0,\n",
    "        'W': 227.8,\n",
    "        'Y': 193.6,\n",
    "        'P': 112.7,\n",
    "        'H': 153.2,\n",
    "        'E': 138.4,\n",
    "        'Q': 143.8,\n",
    "        'D': 111.1,\n",
    "        'N': 114.1,\n",
    "        'K': 168.6,\n",
    "        'R': 173.4,\n",
    "        'X': 0\n",
    "    }\n",
    "    return vol.get(letter,\"Invalid sequence\")"
   ]
  },
  {
   "cell_type": "code",
   "execution_count": 7,
   "metadata": {
    "ExecuteTime": {
     "end_time": "2020-02-22T01:41:30.303486Z",
     "start_time": "2020-02-22T01:41:30.297468Z"
    }
   },
   "outputs": [],
   "source": [
    "def polarity(letter):\n",
    "    polar = {\n",
    "        'I': 1,\n",
    "        'V': 1,\n",
    "        'L': 1,\n",
    "        'F': 1,\n",
    "        'C': 2,\n",
    "        'M': 2,\n",
    "        'A': 1,\n",
    "        'G': 1,\n",
    "        'T': 2,\n",
    "        'S': 2,\n",
    "        'W': 2,\n",
    "        'Y': 2,\n",
    "        'P': 1,\n",
    "        'H': 4,\n",
    "        'E': 3,\n",
    "        'Q': 2,\n",
    "        'D': 3,\n",
    "        'N': 2,\n",
    "        'K': 4,\n",
    "        'R': 4,\n",
    "        'X': 0\n",
    "    }\n",
    "    return polar.get(letter,\"Invalid sequence\")"
   ]
  },
  {
   "cell_type": "code",
   "execution_count": 8,
   "metadata": {
    "ExecuteTime": {
     "end_time": "2020-02-22T01:41:30.888330Z",
     "start_time": "2020-02-22T01:41:30.884373Z"
    }
   },
   "outputs": [],
   "source": [
    "def length(sequence):\n",
    "    length_sum = 12\n",
    "    for i in range(len(sequence)):\n",
    "        if sequence[i] == 'X' or 'x':\n",
    "            length_sum -= 1\n",
    "    return length_sum"
   ]
  },
  {
   "cell_type": "code",
   "execution_count": null,
   "metadata": {},
   "outputs": [],
   "source": []
  }
 ],
 "metadata": {
  "kernelspec": {
   "display_name": "Python 3",
   "language": "python",
   "name": "python3"
  },
  "language_info": {
   "codemirror_mode": {
    "name": "ipython",
    "version": 3
   },
   "file_extension": ".py",
   "mimetype": "text/x-python",
   "name": "python",
   "nbconvert_exporter": "python",
   "pygments_lexer": "ipython3",
   "version": "3.7.3"
  },
  "toc": {
   "base_numbering": 1,
   "nav_menu": {},
   "number_sections": true,
   "sideBar": true,
   "skip_h1_title": false,
   "title_cell": "Table of Contents",
   "title_sidebar": "Contents",
   "toc_cell": false,
   "toc_position": {},
   "toc_section_display": true,
   "toc_window_display": false
  },
  "varInspector": {
   "cols": {
    "lenName": 16,
    "lenType": 16,
    "lenVar": 40
   },
   "kernels_config": {
    "python": {
     "delete_cmd_postfix": "",
     "delete_cmd_prefix": "del ",
     "library": "var_list.py",
     "varRefreshCmd": "print(var_dic_list())"
    },
    "r": {
     "delete_cmd_postfix": ") ",
     "delete_cmd_prefix": "rm(",
     "library": "var_list.r",
     "varRefreshCmd": "cat(var_dic_list()) "
    }
   },
   "types_to_exclude": [
    "module",
    "function",
    "builtin_function_or_method",
    "instance",
    "_Feature"
   ],
   "window_display": false
  }
 },
 "nbformat": 4,
 "nbformat_minor": 2
}
