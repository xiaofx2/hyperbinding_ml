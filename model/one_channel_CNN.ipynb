{
 "cells": [
  {
   "cell_type": "code",
   "execution_count": 1,
   "metadata": {},
   "outputs": [
    {
     "name": "stderr",
     "output_type": "stream",
     "text": [
      "Using TensorFlow backend.\n"
     ]
    }
   ],
   "source": [
    "import pandas as pd\n",
    "import numpy as np\n",
    "import matplotlib.pyplot as plt\n",
    "import Input_matrix_generation\n",
    "from keras.utils import to_categorical"
   ]
  },
  {
   "cell_type": "code",
   "execution_count": 2,
   "metadata": {},
   "outputs": [],
   "source": [
    "df = pd.read_csv('/mnt/c/Users/majin/DIRECT/final_project/Labeled-Filled-HLA-A_0201.csv')"
   ]
  },
  {
   "cell_type": "code",
   "execution_count": 3,
   "metadata": {
    "scrolled": true
   },
   "outputs": [],
   "source": [
    "df_dataset = df[['sequence','label']]"
   ]
  },
  {
   "cell_type": "code",
   "execution_count": 4,
   "metadata": {},
   "outputs": [
    {
     "data": {
      "text/plain": [
       "(12120, 2)"
      ]
     },
     "execution_count": 4,
     "metadata": {},
     "output_type": "execute_result"
    }
   ],
   "source": [
    "df_dataset.shape"
   ]
  },
  {
   "cell_type": "code",
   "execution_count": 5,
   "metadata": {},
   "outputs": [],
   "source": [
    "y_data = []\n",
    "for label in df_dataset['label']:\n",
    "    if label == 'P':\n",
    "        y_data.append([0])\n",
    "    elif label == 'N':\n",
    "        y_data.append([1])\n",
    "    else:\n",
    "        continue\n",
    "y_data = np.array(y_data)"
   ]
  },
  {
   "cell_type": "code",
   "execution_count": 6,
   "metadata": {},
   "outputs": [],
   "source": [
    "y_data = to_categorical(y_data)"
   ]
  },
  {
   "cell_type": "code",
   "execution_count": 7,
   "metadata": {},
   "outputs": [],
   "source": [
    "x_data = []\n",
    "for sequence in df_dataset['sequence']:\n",
    "    x_data.append(Input_matrix_generation.sequence_to_matrix(sequence))\n",
    "x_data = np.array(x_data, dtype = 'float32')"
   ]
  },
  {
   "cell_type": "code",
   "execution_count": 8,
   "metadata": {},
   "outputs": [
    {
     "data": {
      "text/plain": [
       "(12120, 5, 12)"
      ]
     },
     "execution_count": 8,
     "metadata": {},
     "output_type": "execute_result"
    }
   ],
   "source": [
    "x_data.shape"
   ]
  },
  {
   "cell_type": "code",
   "execution_count": 9,
   "metadata": {},
   "outputs": [],
   "source": [
    "x_data = x_data.reshape((x_data.shape[0],5,12,1))"
   ]
  },
  {
   "cell_type": "code",
   "execution_count": 10,
   "metadata": {},
   "outputs": [],
   "source": [
    "from sklearn.model_selection import train_test_split\n",
    "x_train,x_validate,y_train,y_validate = train_test_split(x_data,y_data,test_size = 0.2)"
   ]
  },
  {
   "cell_type": "code",
   "execution_count": 11,
   "metadata": {},
   "outputs": [],
   "source": [
    "import keras\n",
    "from keras import layers\n",
    "from keras import models"
   ]
  },
  {
   "cell_type": "code",
   "execution_count": 14,
   "metadata": {},
   "outputs": [],
   "source": [
    "model=models.Sequential()\n",
    "model.add(layers.Conv2D(32, (2, 2), activation='relu', input_shape=(5, 12, 1))) \n",
    "model.add(layers.MaxPooling2D((2, 2)))\n",
    "model.add(layers.Conv2D(64, (1, 1), activation='relu')) \n",
    "model.add(layers.MaxPooling2D((2, 2)))\n",
    "model.add(layers.Flatten())\n",
    "model.add(layers.Dense(128, activation='relu'))\n",
    "model.add(layers.Dense(128, activation='relu'))\n",
    "model.add(layers.Dense(128, activation='relu'))\n",
    "model.add(layers.Dropout(0.25, seed=21))\n",
    "model.add(layers.Dense(2, activation='softmax'))\n",
    "sgd = keras.optimizers.SGD(lr=0.001, decay=1e-6, momentum=0.5, nesterov=True)"
   ]
  },
  {
   "cell_type": "code",
   "execution_count": 16,
   "metadata": {},
   "outputs": [
    {
     "name": "stdout",
     "output_type": "stream",
     "text": [
      "Train on 9696 samples, validate on 2424 samples\n",
      "Epoch 1/20\n",
      "9696/9696 [==============================] - 1s 69us/step - loss: 0.5309 - accuracy: 0.7301 - val_loss: 0.5313 - val_accuracy: 0.7261\n",
      "Epoch 2/20\n",
      "9696/9696 [==============================] - 1s 57us/step - loss: 0.5312 - accuracy: 0.7295 - val_loss: 0.5389 - val_accuracy: 0.7240\n",
      "Epoch 3/20\n",
      "9696/9696 [==============================] - 1s 58us/step - loss: 0.5270 - accuracy: 0.7365 - val_loss: 0.5412 - val_accuracy: 0.7145\n",
      "Epoch 4/20\n",
      "9696/9696 [==============================] - 1s 57us/step - loss: 0.5240 - accuracy: 0.7363 - val_loss: 0.5176 - val_accuracy: 0.7446\n",
      "Epoch 5/20\n",
      "9696/9696 [==============================] - 1s 55us/step - loss: 0.5252 - accuracy: 0.7360 - val_loss: 0.5246 - val_accuracy: 0.7368\n",
      "Epoch 6/20\n",
      "9696/9696 [==============================] - 1s 55us/step - loss: 0.5221 - accuracy: 0.7384 - val_loss: 0.5193 - val_accuracy: 0.7343\n",
      "Epoch 7/20\n",
      "9696/9696 [==============================] - 1s 55us/step - loss: 0.5218 - accuracy: 0.7391 - val_loss: 0.5155 - val_accuracy: 0.7430\n",
      "Epoch 8/20\n",
      "9696/9696 [==============================] - 1s 55us/step - loss: 0.5187 - accuracy: 0.7400 - val_loss: 0.5220 - val_accuracy: 0.7413\n",
      "Epoch 9/20\n",
      "9696/9696 [==============================] - 1s 57us/step - loss: 0.5170 - accuracy: 0.7415 - val_loss: 0.5392 - val_accuracy: 0.7219\n",
      "Epoch 10/20\n",
      "9696/9696 [==============================] - 1s 55us/step - loss: 0.5163 - accuracy: 0.7482 - val_loss: 0.5083 - val_accuracy: 0.7442\n",
      "Epoch 11/20\n",
      "9696/9696 [==============================] - 1s 55us/step - loss: 0.5154 - accuracy: 0.7419 - val_loss: 0.5145 - val_accuracy: 0.7496\n",
      "Epoch 12/20\n",
      "9696/9696 [==============================] - 1s 55us/step - loss: 0.5136 - accuracy: 0.7502 - val_loss: 0.5100 - val_accuracy: 0.7467\n",
      "Epoch 13/20\n",
      "9696/9696 [==============================] - 1s 55us/step - loss: 0.5124 - accuracy: 0.7475 - val_loss: 0.5090 - val_accuracy: 0.7496\n",
      "Epoch 14/20\n",
      "9696/9696 [==============================] - 1s 58us/step - loss: 0.5109 - accuracy: 0.7438 - val_loss: 0.5054 - val_accuracy: 0.7500\n",
      "Epoch 15/20\n",
      "9696/9696 [==============================] - 1s 65us/step - loss: 0.5089 - accuracy: 0.7447 - val_loss: 0.5118 - val_accuracy: 0.7455\n",
      "Epoch 16/20\n",
      "9696/9696 [==============================] - 1s 55us/step - loss: 0.5093 - accuracy: 0.7485 - val_loss: 0.5136 - val_accuracy: 0.7434\n",
      "Epoch 17/20\n",
      "9696/9696 [==============================] - 1s 56us/step - loss: 0.5070 - accuracy: 0.7478 - val_loss: 0.5317 - val_accuracy: 0.7215\n",
      "Epoch 18/20\n",
      "9696/9696 [==============================] - 1s 56us/step - loss: 0.5055 - accuracy: 0.7529 - val_loss: 0.5243 - val_accuracy: 0.7384\n",
      "Epoch 19/20\n",
      "9696/9696 [==============================] - 1s 57us/step - loss: 0.5063 - accuracy: 0.7503 - val_loss: 0.5104 - val_accuracy: 0.7389\n",
      "Epoch 20/20\n",
      "9696/9696 [==============================] - 1s 56us/step - loss: 0.5046 - accuracy: 0.7507 - val_loss: 0.5126 - val_accuracy: 0.7467\n"
     ]
    },
    {
     "data": {
      "text/plain": [
       "<keras.callbacks.callbacks.History at 0x7ffbb0775470>"
      ]
     },
     "execution_count": 16,
     "metadata": {},
     "output_type": "execute_result"
    }
   ],
   "source": [
    "model.compile(optimizer='sgd',\n",
    "              loss='categorical_crossentropy',\n",
    "              metrics=['accuracy'])\n",
    "model.fit(x_train, y_train, \n",
    "          epochs=20, \n",
    "          batch_size=32, \n",
    "          verbose=1, \n",
    "          validation_data=(x_validate, y_validate))"
   ]
  },
  {
   "cell_type": "code",
   "execution_count": null,
   "metadata": {},
   "outputs": [],
   "source": []
  }
 ],
 "metadata": {
  "kernelspec": {
   "display_name": "Python 3",
   "language": "python",
   "name": "python3"
  },
  "language_info": {
   "codemirror_mode": {
    "name": "ipython",
    "version": 3
   },
   "file_extension": ".py",
   "mimetype": "text/x-python",
   "name": "python",
   "nbconvert_exporter": "python",
   "pygments_lexer": "ipython3",
   "version": "3.7.3"
  }
 },
 "nbformat": 4,
 "nbformat_minor": 2
}
