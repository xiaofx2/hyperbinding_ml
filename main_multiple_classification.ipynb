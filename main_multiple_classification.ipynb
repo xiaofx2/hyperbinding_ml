{
 "cells": [
  {
   "cell_type": "code",
   "execution_count": 1,
   "metadata": {},
   "outputs": [],
   "source": [
    "import pandas as pd\n",
    "import numpy as np\n",
    "import matplotlib.pyplot as plt\n",
    "import multiple_channel_matrix_generator"
   ]
  },
  {
   "cell_type": "code",
   "execution_count": 2,
   "metadata": {},
   "outputs": [
    {
     "name": "stderr",
     "output_type": "stream",
     "text": [
      "Using TensorFlow backend.\n"
     ]
    }
   ],
   "source": [
    "import keras\n",
    "from keras.utils import to_categorical"
   ]
  },
  {
   "cell_type": "code",
   "execution_count": 3,
   "metadata": {},
   "outputs": [],
   "source": [
    "df = pd.read_csv('Multiple-Labeled-HLA-A-0201.csv')"
   ]
  },
  {
   "cell_type": "code",
   "execution_count": 4,
   "metadata": {},
   "outputs": [],
   "source": [
    "df_dataset = df[['sequence','label']]"
   ]
  },
  {
   "cell_type": "code",
   "execution_count": 5,
   "metadata": {},
   "outputs": [],
   "source": [
    "y_data = []\n",
    "for label in df_dataset['label']:\n",
    "    y_data.append(label)\n",
    "y_data = np.array(y_data)"
   ]
  },
  {
   "cell_type": "code",
   "execution_count": 6,
   "metadata": {},
   "outputs": [],
   "source": [
    "y_data = to_categorical(y_data)"
   ]
  },
  {
   "cell_type": "code",
   "execution_count": 7,
   "metadata": {},
   "outputs": [],
   "source": [
    "x_data = []\n",
    "for sequence in df_dataset['sequence']:\n",
    "    x_data.append(multiple_channel_matrix_generator.multiple_channel_generator(sequence))\n",
    "x_data = np.array(x_data, dtype = 'float32')"
   ]
  },
  {
   "cell_type": "code",
   "execution_count": 8,
   "metadata": {},
   "outputs": [],
   "source": [
    "x_data = x_data.reshape((x_data.shape[0],12,21,3))"
   ]
  },
  {
   "cell_type": "code",
   "execution_count": 9,
   "metadata": {},
   "outputs": [],
   "source": [
    "from sklearn.model_selection import train_test_split\n",
    "x_train,x_validate,y_train,y_validate = train_test_split(x_data,y_data,test_size = 0.2) "
   ]
  },
  {
   "cell_type": "code",
   "execution_count": 10,
   "metadata": {},
   "outputs": [],
   "source": [
    "from keras import layers\n",
    "from keras import models"
   ]
  },
  {
   "cell_type": "code",
   "execution_count": 11,
   "metadata": {},
   "outputs": [],
   "source": [
    "model=models.Sequential()\n",
    "model.add(layers.Conv2D(32, (2, 2), activation='relu', input_shape=(12,21,3))) \n",
    "model.add(layers.MaxPooling2D((2, 2))) \n",
    "model.add(layers.Dropout(0.2))\n",
    "\n",
    "model.add(layers.Conv2D(64, (2, 2), activation='relu')) \n",
    "model.add(layers.MaxPooling2D((2, 2))) \n",
    "model.add(layers.Dropout(0.2))\n",
    "\n",
    "model.add(layers.Flatten())\n",
    "\n",
    "model.add(layers.Dense(256, activation='relu'))\n",
    "model.add(layers.Dense(128, activation='relu'))  \n",
    "model.add(layers.Dropout(0.2))\n",
    "model.add(layers.Dense(5, activation='softmax'))\n",
    "sgd = keras.optimizers.SGD(lr=0.00001, decay=1e-6, momentum=0.5, nesterov=True) "
   ]
  },
  {
   "cell_type": "code",
   "execution_count": 12,
   "metadata": {},
   "outputs": [
    {
     "name": "stdout",
     "output_type": "stream",
     "text": [
      "Train on 9696 samples, validate on 2424 samples\n",
      "Epoch 1/50\n",
      "9696/9696 [==============================] - 1s 152us/step - loss: 1.7966 - accuracy: 0.2699 - val_loss: 1.4338 - val_accuracy: 0.3300\n",
      "Epoch 2/50\n",
      "9696/9696 [==============================] - 1s 132us/step - loss: 1.4556 - accuracy: 0.3246 - val_loss: 1.3980 - val_accuracy: 0.3606\n",
      "Epoch 3/50\n",
      "9696/9696 [==============================] - 1s 127us/step - loss: 1.4239 - accuracy: 0.3390 - val_loss: 1.3587 - val_accuracy: 0.3540\n",
      "Epoch 4/50\n",
      "9696/9696 [==============================] - 1s 127us/step - loss: 1.3950 - accuracy: 0.3523 - val_loss: 1.3710 - val_accuracy: 0.3700\n",
      "Epoch 5/50\n",
      "9696/9696 [==============================] - 1s 127us/step - loss: 1.3786 - accuracy: 0.3605 - val_loss: 1.3542 - val_accuracy: 0.3837\n",
      "Epoch 6/50\n",
      "9696/9696 [==============================] - 1s 125us/step - loss: 1.3758 - accuracy: 0.3640 - val_loss: 1.3103 - val_accuracy: 0.3956\n",
      "Epoch 7/50\n",
      "9696/9696 [==============================] - 1s 126us/step - loss: 1.3684 - accuracy: 0.3739 - val_loss: 1.3127 - val_accuracy: 0.4109\n",
      "Epoch 8/50\n",
      "9696/9696 [==============================] - 1s 124us/step - loss: 1.3497 - accuracy: 0.3817 - val_loss: 1.3216 - val_accuracy: 0.3936\n",
      "Epoch 9/50\n",
      "9696/9696 [==============================] - 1s 126us/step - loss: 1.3496 - accuracy: 0.3846 - val_loss: 1.3154 - val_accuracy: 0.4043\n",
      "Epoch 10/50\n",
      "9696/9696 [==============================] - 1s 128us/step - loss: 1.3378 - accuracy: 0.3885 - val_loss: 1.2940 - val_accuracy: 0.4101\n",
      "Epoch 11/50\n",
      "9696/9696 [==============================] - 1s 127us/step - loss: 1.3317 - accuracy: 0.3916 - val_loss: 1.2977 - val_accuracy: 0.4179\n",
      "Epoch 12/50\n",
      "9696/9696 [==============================] - 1s 129us/step - loss: 1.3183 - accuracy: 0.4035 - val_loss: 1.2871 - val_accuracy: 0.4224\n",
      "Epoch 13/50\n",
      "9696/9696 [==============================] - 1s 125us/step - loss: 1.3212 - accuracy: 0.3998 - val_loss: 1.2797 - val_accuracy: 0.4286\n",
      "Epoch 14/50\n",
      "9696/9696 [==============================] - 1s 130us/step - loss: 1.3150 - accuracy: 0.4035 - val_loss: 1.2801 - val_accuracy: 0.4216\n",
      "Epoch 15/50\n",
      "9696/9696 [==============================] - 1s 127us/step - loss: 1.3051 - accuracy: 0.4118 - val_loss: 1.2596 - val_accuracy: 0.4435\n",
      "Epoch 16/50\n",
      "9696/9696 [==============================] - 1s 126us/step - loss: 1.3044 - accuracy: 0.4130 - val_loss: 1.2776 - val_accuracy: 0.4290\n",
      "Epoch 17/50\n",
      "9696/9696 [==============================] - 1s 127us/step - loss: 1.3001 - accuracy: 0.4078 - val_loss: 1.2887 - val_accuracy: 0.4278\n",
      "Epoch 18/50\n",
      "9696/9696 [==============================] - 1s 127us/step - loss: 1.2906 - accuracy: 0.4197 - val_loss: 1.2656 - val_accuracy: 0.4402\n",
      "Epoch 19/50\n",
      "9696/9696 [==============================] - 1s 128us/step - loss: 1.2921 - accuracy: 0.4233 - val_loss: 1.2608 - val_accuracy: 0.4344\n",
      "Epoch 20/50\n",
      "9696/9696 [==============================] - 1s 130us/step - loss: 1.2815 - accuracy: 0.4315 - val_loss: 1.2507 - val_accuracy: 0.4493\n",
      "Epoch 21/50\n",
      "9696/9696 [==============================] - 1s 128us/step - loss: 1.2819 - accuracy: 0.4257 - val_loss: 1.2497 - val_accuracy: 0.4402\n",
      "Epoch 22/50\n",
      "9696/9696 [==============================] - 1s 143us/step - loss: 1.2764 - accuracy: 0.4252 - val_loss: 1.2484 - val_accuracy: 0.4422\n",
      "Epoch 23/50\n",
      "9696/9696 [==============================] - 1s 145us/step - loss: 1.2774 - accuracy: 0.4313 - val_loss: 1.2610 - val_accuracy: 0.4493\n",
      "Epoch 24/50\n",
      "9696/9696 [==============================] - 1s 141us/step - loss: 1.2670 - accuracy: 0.4380 - val_loss: 1.2453 - val_accuracy: 0.4451\n",
      "Epoch 25/50\n",
      "9696/9696 [==============================] - 1s 139us/step - loss: 1.2683 - accuracy: 0.4337 - val_loss: 1.2393 - val_accuracy: 0.4447\n",
      "Epoch 26/50\n",
      "9696/9696 [==============================] - 1s 137us/step - loss: 1.2614 - accuracy: 0.4390 - val_loss: 1.2659 - val_accuracy: 0.4311\n",
      "Epoch 27/50\n",
      "9696/9696 [==============================] - 1s 134us/step - loss: 1.2594 - accuracy: 0.4444 - val_loss: 1.2356 - val_accuracy: 0.4616\n",
      "Epoch 28/50\n",
      "9696/9696 [==============================] - 1s 135us/step - loss: 1.2577 - accuracy: 0.4370 - val_loss: 1.2802 - val_accuracy: 0.4241\n",
      "Epoch 29/50\n",
      "9696/9696 [==============================] - 1s 137us/step - loss: 1.2523 - accuracy: 0.4365 - val_loss: 1.2425 - val_accuracy: 0.4451\n",
      "Epoch 30/50\n",
      "9696/9696 [==============================] - 1s 130us/step - loss: 1.2518 - accuracy: 0.4428 - val_loss: 1.2401 - val_accuracy: 0.4501\n",
      "Epoch 31/50\n",
      "9696/9696 [==============================] - 1s 129us/step - loss: 1.2481 - accuracy: 0.4461 - val_loss: 1.2463 - val_accuracy: 0.4484\n",
      "Epoch 32/50\n",
      "9696/9696 [==============================] - 1s 131us/step - loss: 1.2478 - accuracy: 0.4486 - val_loss: 1.2618 - val_accuracy: 0.4365\n",
      "Epoch 33/50\n",
      "9696/9696 [==============================] - 1s 130us/step - loss: 1.2425 - accuracy: 0.4454 - val_loss: 1.2414 - val_accuracy: 0.4422\n",
      "Epoch 34/50\n",
      "9696/9696 [==============================] - 1s 132us/step - loss: 1.2417 - accuracy: 0.4542 - val_loss: 1.2401 - val_accuracy: 0.4513\n",
      "Epoch 35/50\n",
      "9696/9696 [==============================] - 1s 134us/step - loss: 1.2350 - accuracy: 0.4509 - val_loss: 1.2318 - val_accuracy: 0.4509\n",
      "Epoch 36/50\n",
      "9696/9696 [==============================] - 1s 133us/step - loss: 1.2353 - accuracy: 0.4505 - val_loss: 1.2355 - val_accuracy: 0.4509\n",
      "Epoch 37/50\n",
      "9696/9696 [==============================] - 1s 134us/step - loss: 1.2244 - accuracy: 0.4574 - val_loss: 1.2289 - val_accuracy: 0.4484\n",
      "Epoch 38/50\n",
      "9696/9696 [==============================] - 1s 133us/step - loss: 1.2216 - accuracy: 0.4626 - val_loss: 1.2301 - val_accuracy: 0.4505\n",
      "Epoch 39/50\n",
      "9696/9696 [==============================] - 1s 135us/step - loss: 1.2202 - accuracy: 0.4613 - val_loss: 1.2336 - val_accuracy: 0.4608\n",
      "Epoch 40/50\n",
      "9696/9696 [==============================] - 1s 134us/step - loss: 1.2177 - accuracy: 0.4537 - val_loss: 1.2350 - val_accuracy: 0.4542\n",
      "Epoch 41/50\n",
      "9696/9696 [==============================] - 1s 134us/step - loss: 1.2155 - accuracy: 0.4575 - val_loss: 1.2361 - val_accuracy: 0.4534\n",
      "Epoch 42/50\n",
      "9696/9696 [==============================] - 1s 132us/step - loss: 1.2120 - accuracy: 0.4664 - val_loss: 1.2268 - val_accuracy: 0.4563\n",
      "Epoch 43/50\n",
      "9696/9696 [==============================] - 1s 133us/step - loss: 1.2086 - accuracy: 0.4663 - val_loss: 1.2302 - val_accuracy: 0.4443\n",
      "Epoch 44/50\n",
      "9696/9696 [==============================] - 1s 130us/step - loss: 1.2087 - accuracy: 0.4693 - val_loss: 1.2306 - val_accuracy: 0.4521\n",
      "Epoch 45/50\n",
      "9696/9696 [==============================] - 1s 130us/step - loss: 1.1979 - accuracy: 0.4748 - val_loss: 1.2227 - val_accuracy: 0.4579\n",
      "Epoch 46/50\n",
      "9696/9696 [==============================] - 1s 132us/step - loss: 1.1962 - accuracy: 0.4704 - val_loss: 1.2262 - val_accuracy: 0.4600\n",
      "Epoch 47/50\n",
      "9696/9696 [==============================] - 1s 133us/step - loss: 1.1909 - accuracy: 0.4770 - val_loss: 1.2276 - val_accuracy: 0.4571\n",
      "Epoch 48/50\n",
      "9696/9696 [==============================] - 1s 131us/step - loss: 1.1906 - accuracy: 0.4702 - val_loss: 1.2335 - val_accuracy: 0.4410\n",
      "Epoch 49/50\n",
      "9696/9696 [==============================] - 1s 135us/step - loss: 1.1841 - accuracy: 0.4783 - val_loss: 1.2323 - val_accuracy: 0.4505\n",
      "Epoch 50/50\n",
      "9696/9696 [==============================] - 1s 136us/step - loss: 1.1870 - accuracy: 0.4801 - val_loss: 1.2234 - val_accuracy: 0.4563\n"
     ]
    }
   ],
   "source": [
    "model.compile(optimizer='sgd',\n",
    "              loss='categorical_crossentropy',\n",
    "              metrics=['accuracy'])\n",
    "history = model.fit(x_train, y_train, \n",
    "                  epochs=50, \n",
    "                  batch_size=32, \n",
    "                  verbose=1, \n",
    "                  validation_data=(x_validate, y_validate))  "
   ]
  },
  {
   "cell_type": "code",
   "execution_count": 13,
   "metadata": {},
   "outputs": [
    {
     "data": {
      "image/png": "[encoded data removed]",
      "text/plain": [
       "<Figure size 432x288 with 1 Axes>"
      ]
     },
     "metadata": {
      "needs_background": "light"
     },
     "output_type": "display_data"
    }
   ],
   "source": [
    "plt.plot(history.history['accuracy'])\n",
    "plt.plot(history.history['val_accuracy'])\n",
    "plt.title('model accuracy')\n",
    "plt.ylabel('accuracy')\n",
    "plt.xlabel('epoch')\n",
    "plt.legend(['train', 'test'], loc='upper left')\n",
    "plt.show()"
   ]
  },
  {
   "cell_type": "code",
   "execution_count": 14,
   "metadata": {},
   "outputs": [
    {
     "data": {
      "image/png": "[encoded data removed]",
      "text/plain": [
       "<Figure size 432x288 with 1 Axes>"
      ]
     },
     "metadata": {
      "needs_background": "light"
     },
     "output_type": "display_data"
    }
   ],
   "source": [
    "plt.plot(history.history['loss'])\n",
    "plt.plot(history.history['val_loss'])\n",
    "plt.title('model loss')\n",
    "plt.ylabel('loss')\n",
    "plt.xlabel('epoch')\n",
    "plt.legend(['train', 'test'], loc='upper left')\n",
    "plt.show()"
   ]
  },
  {
   "cell_type": "code",
   "execution_count": 15,
   "metadata": {
    "scrolled": true
   },
   "outputs": [],
   "source": [
    "model.save('multi_class_CNN_model.h5')"
   ]
  },
  {
   "cell_type": "code",
   "execution_count": null,
   "metadata": {},
   "outputs": [],
   "source": []
  }
 ],
 "metadata": {
  "kernelspec": {
   "display_name": "Python 3",
   "language": "python",
   "name": "python3"
  },
  "language_info": {
   "codemirror_mode": {
    "name": "ipython",
    "version": 3
   },
   "file_extension": ".py",
   "mimetype": "text/x-python",
   "name": "python",
   "nbconvert_exporter": "python",
   "pygments_lexer": "ipython3",
   "version": "3.7.3"
  }
 },
 "nbformat": 4,
 "nbformat_minor": 2
}
